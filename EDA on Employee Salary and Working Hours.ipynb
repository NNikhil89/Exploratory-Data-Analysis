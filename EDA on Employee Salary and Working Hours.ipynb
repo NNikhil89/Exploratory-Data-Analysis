{
 "cells": [
  {
   "cell_type": "markdown",
   "id": "4667fd8a",
   "metadata": {},
   "source": [
    "## Introduction"
   ]
  },
  {
   "cell_type": "markdown",
   "id": "2d296125",
   "metadata": {},
   "source": [
    "We have collected the data from NYC Open Data. The data is created because of public interest in how the City’s budget is being spent on salary and overtime pay for all municipal employees. That data is input into the City's Personnel Management System (“PMS”) by the respective user Agencies. Each record represents the following statistics for every city employee: Agency, Last Name, First Name, Middle Initial, Agency Start Date, Work Location Borough, Job Title Description, Leave Status as of the close of the FY (June 30th), Base Salary, Pay Basis, Regular Hours Paid, Regular Gross Paid, Overtime Hours worked, Total Overtime Paid, and Total Other Compensation (i.e. lump sum and/or retro payments). We filtered the database to focus on the data from 2023, enabling a more targeted analysis of workforce dynamics and overtime trends.\n",
    "\n",
    "Our objective is to analyze the provided data to determine areas where job opportunities can be created based on overtime (OT) hours. For instance, if a specific field exhibits a high number of workers engaging in overtime, it suggests an increased workload in that area. Consequently, addressing this by employing more workers can not only eliminate the burden on existing staff but also generate new job opportunities. By strategically allocating resources to fields with significant OT hours, we aim to optimize workforce distribution, reduce strain on employees, and foster a healthier work environment while simultaneously fostering economic growth through increased employment opportunities.\n",
    " \n"
   ]
  },
  {
   "cell_type": "markdown",
   "id": "33759ac1",
   "metadata": {},
   "source": [
    "## Data Summary"
   ]
  },
  {
   "cell_type": "markdown",
   "id": "2abdeb8b",
   "metadata": {},
   "source": [
    "We collected the data from city wide payroll data from New York city open data.\n",
    "Use cases:\n",
    "\n",
    "Overtime Analysis:\n",
    "Analyze patterns and trends in overtime hours and payments.\n",
    "Identify job roles with significant overtime.\n",
    "\n",
    "Attributes Used in this UseCase: Title Description, OT Hours, Total OT Paid\n",
    "\n",
    "Data Type: Title Description: varchar, \n",
    "\t       OT Hours: float\n",
    "\t       Total OT Paid: float\n",
    "\n",
    "Salary Distribution Analysis:\n",
    "Explore the distribution of salaries across different job titles.\n",
    "Identify outliers and anomalies in salary data.\n",
    "\n",
    "Attributes Used in this UseCase: Title Description, Regular Gross Paid\n",
    "\n",
    "Data Type: Title Description: varchar, \n",
    "\t       Regular Gross Paid : float\t\t\n",
    "\n",
    "Employee Demographics:\n",
    "Analyze the employees experience and their Wages\n",
    "\n",
    "Attributes: Agency Start Date, Total Other pay\n",
    "\n",
    "Data Type: Agency Start Date: Date\n",
    "\t      Total Other pay: float\t\n",
    "\n",
    "\n"
   ]
  },
  {
   "cell_type": "markdown",
   "id": "2f457e4f",
   "metadata": {},
   "source": [
    "## Data Summary Work"
   ]
  },
  {
   "cell_type": "code",
   "execution_count": 184,
   "id": "3cfd7fbb",
   "metadata": {},
   "outputs": [],
   "source": [
    "# Import the required libraries\n",
    "# pandas Library for Data manipulation \n",
    "import pandas as pd\n",
    "# PostgreSQL adapter for connecting Python with PostgresSQL\n",
    "import psycopg2\n",
    "from psycopg2 import sql\n",
    "# SQL toolkit\n",
    "import sqlalchemy\n",
    "# Data visualization library\n",
    "import matplotlib.pyplot as plt\n",
    "# Module for handling warnings\n",
    "import warnings\n",
    "\n",
    "# Suppress all warnings\n",
    "warnings.filterwarnings(\"ignore\")"
   ]
  },
  {
   "cell_type": "markdown",
   "id": "8b9e596e",
   "metadata": {},
   "source": [
    "## Importing from Github library"
   ]
  },
  {
   "cell_type": "code",
   "execution_count": 185,
   "id": "8c062472",
   "metadata": {},
   "outputs": [],
   "source": [
    "df = pd.read_csv('https://raw.githubusercontent.com/NNikhil89/Week7MidTermProject/main/Citywide_Payroll_Data__Fiscal_Year.csv')"
   ]
  },
  {
   "cell_type": "code",
   "execution_count": 186,
   "id": "3a720c56",
   "metadata": {},
   "outputs": [
    {
     "data": {
      "text/html": [
       "<div>\n",
       "<style scoped>\n",
       "    .dataframe tbody tr th:only-of-type {\n",
       "        vertical-align: middle;\n",
       "    }\n",
       "\n",
       "    .dataframe tbody tr th {\n",
       "        vertical-align: top;\n",
       "    }\n",
       "\n",
       "    .dataframe thead th {\n",
       "        text-align: right;\n",
       "    }\n",
       "</style>\n",
       "<table border=\"1\" class=\"dataframe\">\n",
       "  <thead>\n",
       "    <tr style=\"text-align: right;\">\n",
       "      <th></th>\n",
       "      <th>AgencyId</th>\n",
       "      <th>Fiscal Year</th>\n",
       "      <th>Payroll Number</th>\n",
       "      <th>Agency Name</th>\n",
       "      <th>EmployeeId</th>\n",
       "      <th>Last Name</th>\n",
       "      <th>First Name</th>\n",
       "      <th>Mid Init</th>\n",
       "      <th>Agency Start Date</th>\n",
       "      <th>Work Location Borough</th>\n",
       "      <th>Title Description</th>\n",
       "      <th>Leave Status as of June 30</th>\n",
       "      <th>Base Salary</th>\n",
       "      <th>Pay Basis</th>\n",
       "      <th>Regular Hours</th>\n",
       "      <th>Regular Gross Paid</th>\n",
       "      <th>OT Hours</th>\n",
       "      <th>Total OT Paid</th>\n",
       "      <th>Total Other Pay</th>\n",
       "    </tr>\n",
       "  </thead>\n",
       "  <tbody>\n",
       "    <tr>\n",
       "      <th>0</th>\n",
       "      <td>SVCS</td>\n",
       "      <td>2023</td>\n",
       "      <td>67</td>\n",
       "      <td>ADMIN FOR CHILDREN'S SVCS</td>\n",
       "      <td>1</td>\n",
       "      <td>HERRERA</td>\n",
       "      <td>JUDITH</td>\n",
       "      <td>A</td>\n",
       "      <td>06-01-1998</td>\n",
       "      <td>BROOKLYN</td>\n",
       "      <td>CHILD PROTECTIVE SPECIALIST</td>\n",
       "      <td>ACTIVE</td>\n",
       "      <td>66022.0</td>\n",
       "      <td>per Annum</td>\n",
       "      <td>1442.75</td>\n",
       "      <td>52857.81</td>\n",
       "      <td>19.75</td>\n",
       "      <td>903.43</td>\n",
       "      <td>24343.23</td>\n",
       "    </tr>\n",
       "    <tr>\n",
       "      <th>1</th>\n",
       "      <td>SVCS</td>\n",
       "      <td>2023</td>\n",
       "      <td>67</td>\n",
       "      <td>ADMIN FOR CHILDREN'S SVCS</td>\n",
       "      <td>2</td>\n",
       "      <td>MADDUX</td>\n",
       "      <td>DAVINA</td>\n",
       "      <td>P</td>\n",
       "      <td>06-01-1998</td>\n",
       "      <td>BROOKLYN</td>\n",
       "      <td>CHILD PROTECTIVE SPECIALIST</td>\n",
       "      <td>ACTIVE</td>\n",
       "      <td>66022.0</td>\n",
       "      <td>per Annum</td>\n",
       "      <td>1820.00</td>\n",
       "      <td>66067.98</td>\n",
       "      <td>37.75</td>\n",
       "      <td>1438.70</td>\n",
       "      <td>25353.14</td>\n",
       "    </tr>\n",
       "    <tr>\n",
       "      <th>2</th>\n",
       "      <td>SVCS</td>\n",
       "      <td>2023</td>\n",
       "      <td>67</td>\n",
       "      <td>ADMIN FOR CHILDREN'S SVCS</td>\n",
       "      <td>3</td>\n",
       "      <td>LYN</td>\n",
       "      <td>JOAN</td>\n",
       "      <td>A</td>\n",
       "      <td>10-05-1998</td>\n",
       "      <td>BROOKLYN</td>\n",
       "      <td>CHILD PROTECTIVE SPECIALIST</td>\n",
       "      <td>ACTIVE</td>\n",
       "      <td>66022.0</td>\n",
       "      <td>per Annum</td>\n",
       "      <td>1820.00</td>\n",
       "      <td>66103.17</td>\n",
       "      <td>421.75</td>\n",
       "      <td>20542.24</td>\n",
       "      <td>16364.27</td>\n",
       "    </tr>\n",
       "    <tr>\n",
       "      <th>3</th>\n",
       "      <td>SVCS</td>\n",
       "      <td>2023</td>\n",
       "      <td>67</td>\n",
       "      <td>ADMIN FOR CHILDREN'S SVCS</td>\n",
       "      <td>4</td>\n",
       "      <td>EKPO</td>\n",
       "      <td>EKANEM</td>\n",
       "      <td>G</td>\n",
       "      <td>07-06-1998</td>\n",
       "      <td>BROOKLYN</td>\n",
       "      <td>CHILD AND FAMILY SPECIALIST</td>\n",
       "      <td>ACTIVE</td>\n",
       "      <td>96267.0</td>\n",
       "      <td>per Annum</td>\n",
       "      <td>1820.00</td>\n",
       "      <td>96382.90</td>\n",
       "      <td>12.25</td>\n",
       "      <td>650.11</td>\n",
       "      <td>4485.78</td>\n",
       "    </tr>\n",
       "    <tr>\n",
       "      <th>4</th>\n",
       "      <td>SVCS</td>\n",
       "      <td>2023</td>\n",
       "      <td>67</td>\n",
       "      <td>ADMIN FOR CHILDREN'S SVCS</td>\n",
       "      <td>5</td>\n",
       "      <td>SMITH</td>\n",
       "      <td>DWAYNE</td>\n",
       "      <td>NaN</td>\n",
       "      <td>12-07-1998</td>\n",
       "      <td>BROOKLYN</td>\n",
       "      <td>PRINCIPAL ADMINISTRATIVE ASSOCIATE -  NON SUPVR</td>\n",
       "      <td>ACTIVE</td>\n",
       "      <td>57947.0</td>\n",
       "      <td>per Annum</td>\n",
       "      <td>1820.00</td>\n",
       "      <td>57788.13</td>\n",
       "      <td>0.00</td>\n",
       "      <td>0.00</td>\n",
       "      <td>4341.21</td>\n",
       "    </tr>\n",
       "  </tbody>\n",
       "</table>\n",
       "</div>"
      ],
      "text/plain": [
       "  AgencyId  Fiscal Year  Payroll Number                Agency Name  \\\n",
       "0     SVCS         2023              67  ADMIN FOR CHILDREN'S SVCS   \n",
       "1     SVCS         2023              67  ADMIN FOR CHILDREN'S SVCS   \n",
       "2     SVCS         2023              67  ADMIN FOR CHILDREN'S SVCS   \n",
       "3     SVCS         2023              67  ADMIN FOR CHILDREN'S SVCS   \n",
       "4     SVCS         2023              67  ADMIN FOR CHILDREN'S SVCS   \n",
       "\n",
       "   EmployeeId Last Name First Name Mid Init Agency Start Date  \\\n",
       "0           1   HERRERA     JUDITH        A        06-01-1998   \n",
       "1           2    MADDUX     DAVINA        P        06-01-1998   \n",
       "2           3       LYN       JOAN        A        10-05-1998   \n",
       "3           4      EKPO     EKANEM        G        07-06-1998   \n",
       "4           5     SMITH     DWAYNE      NaN        12-07-1998   \n",
       "\n",
       "  Work Location Borough                                Title Description  \\\n",
       "0              BROOKLYN                      CHILD PROTECTIVE SPECIALIST   \n",
       "1              BROOKLYN                      CHILD PROTECTIVE SPECIALIST   \n",
       "2              BROOKLYN                      CHILD PROTECTIVE SPECIALIST   \n",
       "3              BROOKLYN                      CHILD AND FAMILY SPECIALIST   \n",
       "4              BROOKLYN  PRINCIPAL ADMINISTRATIVE ASSOCIATE -  NON SUPVR   \n",
       "\n",
       "  Leave Status as of June 30  Base Salary  Pay Basis  Regular Hours  \\\n",
       "0                     ACTIVE      66022.0  per Annum        1442.75   \n",
       "1                     ACTIVE      66022.0  per Annum        1820.00   \n",
       "2                     ACTIVE      66022.0  per Annum        1820.00   \n",
       "3                     ACTIVE      96267.0  per Annum        1820.00   \n",
       "4                     ACTIVE      57947.0  per Annum        1820.00   \n",
       "\n",
       "   Regular Gross Paid  OT Hours  Total OT Paid  Total Other Pay  \n",
       "0            52857.81     19.75         903.43         24343.23  \n",
       "1            66067.98     37.75        1438.70         25353.14  \n",
       "2            66103.17    421.75       20542.24         16364.27  \n",
       "3            96382.90     12.25         650.11          4485.78  \n",
       "4            57788.13      0.00           0.00          4341.21  "
      ]
     },
     "execution_count": 186,
     "metadata": {},
     "output_type": "execute_result"
    }
   ],
   "source": [
    "#checking the dataframe\n",
    "df.head()"
   ]
  },
  {
   "cell_type": "markdown",
   "id": "d60b3d69",
   "metadata": {},
   "source": [
    "### Description of Columns\n",
    "Fiscal year, Payroll number, \n",
    "Agency Name(The payroll agency that the employee works for)\n",
    "Agency start date( Date which employee began working for their current agency)\n",
    "work location: borough of employee’s primary work location\n",
    "Title description: civil service title description of the employee\n",
    "Leave status as of June 30: status of employee as of the close of the relevant fiscal year: Active, ceased, or on leave, \n",
    "Base salary: assigned to the employee, pay basis (Lists whether the employee is paid on an hourly, per diem or annual basis, Regular hours: Number of hhours employee worked in the fiscal year  \n",
    "Regular gross The amount paid to the employee for base salary during the fiscal year  \n",
    "OT Hours: overtime hours worked by employee in one fiscal year\n",
    "Total OT Paid: Total overtime pay paid to the employee in the fiscal year \n",
    "Total other pay: Includes any compensation in addition to gross salary and overtime pay, ie Differentials, lump sums, Uniform, \n",
    "allowance , meal allowance, retroactive pay increases, settlement amounts and bonus pay if applicable.'''"
   ]
  },
  {
   "cell_type": "markdown",
   "id": "387cf213",
   "metadata": {},
   "source": [
    "#### Our Dataframe comprises of below columns along with their data types"
   ]
  },
  {
   "cell_type": "markdown",
   "id": "f16766f4",
   "metadata": {},
   "source": [
    "# Listing the column names and their data types\n",
    "\n",
    "df.info()"
   ]
  },
  {
   "cell_type": "code",
   "execution_count": 188,
   "id": "60143617",
   "metadata": {},
   "outputs": [
    {
     "data": {
      "text/plain": [
       "Index(['AgencyId', 'Fiscal Year', 'Payroll Number', 'Agency Name',\n",
       "       'EmployeeId', 'Last Name', 'First Name', 'Mid Init',\n",
       "       'Agency Start Date', 'Work Location Borough', 'Title Description',\n",
       "       'Leave Status as of June 30', 'Base Salary', 'Pay Basis',\n",
       "       'Regular Hours', 'Regular Gross Paid', 'OT Hours', 'Total OT Paid',\n",
       "       'Total Other Pay'],\n",
       "      dtype='object')"
      ]
     },
     "execution_count": 188,
     "metadata": {},
     "output_type": "execute_result"
    }
   ],
   "source": [
    "#Extracting column names \n",
    "df.columns"
   ]
  },
  {
   "cell_type": "code",
   "execution_count": null,
   "id": "a39deda4",
   "metadata": {},
   "outputs": [],
   "source": []
  },
  {
   "cell_type": "markdown",
   "id": "ea0d68c2",
   "metadata": {},
   "source": [
    "## Data Management using PostgreSQL"
   ]
  },
  {
   "cell_type": "markdown",
   "id": "9c2a61fd",
   "metadata": {},
   "source": [
    "### 1. Creating a fully normalized SQL database schema\n",
    "'''\n",
    "CREATE TABLE IF NOT EXISTS public.agencydetails\n",
    "(\n",
    "    agencyid integer NOT NULL DEFAULT nextval('agencydetails_agencyid_seq'::regclass),\n",
    "    \"Fiscal Year\" integer,\n",
    "    \"Payroll Number\" integer,\n",
    "    \"Agency Name\" character varying(255) COLLATE pg_catalog.\"default\",\n",
    "    \"Work Location Borough\" character varying(255) COLLATE pg_catalog.\"default\",\n",
    "    CONSTRAINT agencydetails_pkey PRIMARY KEY (agencyid)\n",
    ")\n",
    "\n",
    "\n",
    "CREATE TABLE IF NOT EXISTS public.basepaydetails\n",
    "(\n",
    "    basepayid integer NOT NULL DEFAULT nextval('basepaydetails_basepayid_seq'::regclass),\n",
    "    employeeid integer,\n",
    "    agencyid integer,\n",
    "    \"Base Salary\" double precision,\n",
    "    \"Pay Basis\" character varying(255) COLLATE pg_catalog.\"default\",\n",
    "    \"Regular Hours\" double precision,\n",
    "    \"Regular Gross Paid\" double precision,\n",
    "    \"Total Other Pay\" double precision,\n",
    "    CONSTRAINT basepaydetails_pkey PRIMARY KEY (basepayid),\n",
    "    CONSTRAINT \"FK_AgencyId\" FOREIGN KEY (agencyid)\n",
    "        REFERENCES public.agencydetails (agencyid) MATCH SIMPLE\n",
    "        ON UPDATE NO ACTION\n",
    "        ON DELETE NO ACTION,\n",
    "    CONSTRAINT \"FK_EmployeeId\" FOREIGN KEY (employeeid)\n",
    "        REFERENCES public.employeedetails (employeeid) MATCH SIMPLE\n",
    "        ON UPDATE NO ACTION\n",
    "        ON DELETE NO ACTION\n",
    ")\n",
    "\n",
    "CREATE TABLE IF NOT EXISTS public.employeedetails\n",
    "(\n",
    "    employeeid integer NOT NULL DEFAULT nextval('employeedetails_employeeid_seq'::regclass),\n",
    "    \"Last Name\" character varying(255) COLLATE pg_catalog.\"default\",\n",
    "    \"First Name\" character varying(255) COLLATE pg_catalog.\"default\",\n",
    "    \"Mid Init\" character varying(5) COLLATE pg_catalog.\"default\",\n",
    "    \"Agency Start Date\" character varying(255) COLLATE pg_catalog.\"default\",\n",
    "    \"Title Description\" character varying(255) COLLATE pg_catalog.\"default\",\n",
    "    CONSTRAINT employeedetails_pkey PRIMARY KEY (employeeid)\n",
    ")\n",
    "\n",
    "\n",
    "CREATE TABLE IF NOT EXISTS public.overtimepaydetails\n",
    "(\n",
    "    overtimepayid integer NOT NULL DEFAULT nextval('overtimepaydetails_overtimepayid_seq'::regclass),\n",
    "    employeeid integer,\n",
    "    agencyid integer,\n",
    "    \"OT Hours\" double precision,\n",
    "    \"Total OT Paid\" double precision,\n",
    "    CONSTRAINT overtimepaydetails_pkey PRIMARY KEY (overtimepayid),\n",
    "    CONSTRAINT \"FK_AgencyId\" FOREIGN KEY (agencyid)\n",
    "        REFERENCES public.agencydetails (agencyid) MATCH SIMPLE\n",
    "        ON UPDATE NO ACTION\n",
    "        ON DELETE NO ACTION,\n",
    "    CONSTRAINT \"FK_EmployeeId\" FOREIGN KEY (employeeid)\n",
    "        REFERENCES public.employeedetails (employeeid) MATCH SIMPLE\n",
    "        ON UPDATE NO ACTION\n",
    "        ON DELETE NO ACTION\n",
    ")'''"
   ]
  },
  {
   "cell_type": "markdown",
   "id": "e4ded17a",
   "metadata": {},
   "source": [
    "#### ER Diagram"
   ]
  },
  {
   "attachments": {
    "db%20dIAG1.png": {
     "image/png": "[encoded data removed]"
    }
   },
   "cell_type": "markdown",
   "id": "2c6a7485",
   "metadata": {},
   "source": [
    "![db%20dIAG1.png](attachment:db%20dIAG1.png)\n"
   ]
  },
  {
   "cell_type": "markdown",
   "id": "eb8f56b4",
   "metadata": {},
   "source": [
    "## Importing Data into Postgres Database NYCPayroll\n",
    "Establishing connection between Python and Postgres"
   ]
  },
  {
   "cell_type": "code",
   "execution_count": 189,
   "id": "a337c787",
   "metadata": {},
   "outputs": [],
   "source": [
    "# Establishing a connection to a PostgreSQL database using psycopg2\n",
    "# Creating a connection object using psycopg2.connect() method\n",
    "conn = psycopg2.connect(\n",
    "    host=\"localhost\",\n",
    "    database=\"NYCPayRoll\",\n",
    "    user=\"postgres\",\n",
    "    password=\"your_password\")"
   ]
  },
  {
   "cell_type": "markdown",
   "id": "99e4012e",
   "metadata": {},
   "source": [
    "## Loading Employee Data in NYCPayrollData Database"
   ]
  },
  {
   "cell_type": "code",
   "execution_count": 190,
   "id": "26131a7d",
   "metadata": {},
   "outputs": [],
   "source": [
    "# List of column names representing employee information\n",
    "lstEmployeeColumns = ['EmployeeId','Last Name','First Name', 'Mid Init', 'Agency Start Date', 'Title Description']"
   ]
  },
  {
   "cell_type": "markdown",
   "id": "cbc827e4",
   "metadata": {},
   "source": [
    "Inserting into employeedetails table from the created dataframe"
   ]
  },
  {
   "cell_type": "code",
   "execution_count": 193,
   "id": "3be3e8be",
   "metadata": {},
   "outputs": [
    {
     "name": "stdout",
     "output_type": "stream",
     "text": [
      "Employee Data got inserted successfully\n"
     ]
    }
   ],
   "source": [
    "\n",
    "# Replace 'your_table' with the actual table name\n",
    "table_name = 'employeedetails'\n",
    "\n",
    "# Connect to the PostgreSQL database\n",
    "conn = psycopg2.connect(\n",
    "    host=\"localhost\",\n",
    "    database=\"NYCPayRoll\",\n",
    "    user=\"postgres\",\n",
    "    password=\"your_password\")\n",
    "\n",
    "cursor = conn.cursor()\n",
    "\n",
    "# Iterate through the DataFrame rows and insert into the PostgreSQL table\n",
    "for index, row in df.iterrows():\n",
    "    # Create an SQL query for insertion\n",
    "    insert_query = sql.SQL('INSERT INTO {} ({}) VALUES ({})').format(\n",
    "        sql.Identifier(table_name),\n",
    "        sql.SQL(', ').join(map(sql.Identifier, lstEmployeeColumns)),\n",
    "        sql.SQL(', ').join(sql.Placeholder() * len(lstEmployeeColumns))\n",
    "    )\n",
    "    #print(row)\n",
    "    values_list = [row[col] for col in lstEmployeeColumns]\n",
    "    #print(insert_query)    \n",
    "    # Execute the query\n",
    "    cursor.execute(insert_query, values_list)    \n",
    "    \n",
    "# Commit the changes and close the connection\n",
    "conn.commit()\n",
    "cursor.close()\n",
    "conn.close()\n",
    "print('Employee Data got inserted successfully')"
   ]
  },
  {
   "cell_type": "markdown",
   "id": "74d0b228",
   "metadata": {},
   "source": [
    "### Inserting Data into Basepaydetails table"
   ]
  },
  {
   "cell_type": "code",
   "execution_count": 51,
   "id": "e76a766b",
   "metadata": {},
   "outputs": [],
   "source": [
    "'''List of column names representing employee information like Employee Id, Base Salary, Pay Basis, Regular Hours, \n",
    "Regular Gross Paid, Total Other Pay'''\n",
    "lstBasepaydetails = ['AgencyId','EmployeeId','Leave Status as of June 30','Base Salary','Pay Basis', 'Regular Hours', 'Regular Gross Paid','Total Other Pay']"
   ]
  },
  {
   "cell_type": "markdown",
   "id": "e069733b",
   "metadata": {},
   "source": [
    "Inserting into Basepaydetails table from the created dataframe"
   ]
  },
  {
   "cell_type": "code",
   "execution_count": 53,
   "id": "680cd4af",
   "metadata": {},
   "outputs": [
    {
     "name": "stdout",
     "output_type": "stream",
     "text": [
      "Employee Basepay Data got inserted successfully\n"
     ]
    }
   ],
   "source": [
    "\n",
    "# Replace 'your_table' with the actual table name\n",
    "table_name = 'basepaydetails'\n",
    "\n",
    "# Connect to the PostgreSQL database\n",
    "conn = psycopg2.connect(\n",
    "    host=\"localhost\",\n",
    "    database=\"NYCPayRoll\",\n",
    "    user=\"postgres\",\n",
    "    password=\"your_password\")\n",
    "\n",
    "cursor = conn.cursor()\n",
    "\n",
    "# Iterate through the DataFrame rows and insert into the PostgreSQL table\n",
    "for index, row in df.iterrows():\n",
    "    # Create an SQL query for insertion\n",
    "    insert_query = sql.SQL('INSERT INTO {} ({}) VALUES ({})').format(\n",
    "        sql.Identifier(table_name),\n",
    "        sql.SQL(', ').join(map(sql.Identifier, lstBasepaydetails)),\n",
    "        sql.SQL(', ').join(sql.Placeholder() * len(lstBasepaydetails))\n",
    "    )\n",
    "\n",
    "    values_list = [row[col] for col in lstBasepaydetails]\n",
    "    \n",
    "    _query = sql.SQL('INSERT INTO {} ({}) VALUES ({})').format(\n",
    "        sql.Identifier(table_name),\n",
    "        sql.SQL(', ').join(map(sql.Identifier, lstBasepaydetails)),\n",
    "        sql.SQL(', ').join(sql.Placeholder() * len(lstBasepaydetails))\n",
    "    )\n",
    "\n",
    "    # Execute the query\n",
    "    cursor.execute(insert_query, values_list)\n",
    "    \n",
    "# Commit the changes and close the connection\n",
    "conn.commit()\n",
    "cursor.close()\n",
    "conn.close()\n",
    "\n",
    "print(\"Employee Basepay Data got inserted successfully\")"
   ]
  },
  {
   "cell_type": "markdown",
   "id": "d5840048",
   "metadata": {},
   "source": [
    "## Inserting into AgencyDetails table"
   ]
  },
  {
   "cell_type": "code",
   "execution_count": 12,
   "id": "c23320ad",
   "metadata": {},
   "outputs": [],
   "source": [
    "# Extracting the required columns from the columns of the database\n",
    "lstAgencyNames = ['AgencyId','Fiscal Year', 'Payroll Number','Agency Name', 'Work Location Borough']"
   ]
  },
  {
   "cell_type": "markdown",
   "id": "816b2f6b",
   "metadata": {},
   "source": [
    "Code for inserting into AgencyDetails table from Python"
   ]
  },
  {
   "cell_type": "code",
   "execution_count": 14,
   "id": "db033a4c",
   "metadata": {},
   "outputs": [
    {
     "name": "stdout",
     "output_type": "stream",
     "text": [
      "Agency record created successfully\n"
     ]
    }
   ],
   "source": [
    "# Replace 'your_table' with the actual table name\n",
    "table_name = 'agencydetails'\n",
    "\n",
    "# Connect to the PostgreSQL database\n",
    "conn = psycopg2.connect(\n",
    "    host=\"localhost\",\n",
    "    database=\"NYCPayRoll\",\n",
    "    user=\"postgres\",\n",
    "    password=\"your_password\")\n",
    "\n",
    "cursor = conn.cursor()\n",
    "\n",
    "# Iterate through the DataFrame rows and insert into the PostgreSQL table\n",
    "for index, row in df.iterrows():\n",
    "    # Create an SQL query for insertion\n",
    "    insert_query = sql.SQL('INSERT INTO {} ({}) VALUES ({})').format(\n",
    "        sql.Identifier(table_name),\n",
    "        sql.SQL(', ').join(map(sql.Identifier, lstAgencyNames)),\n",
    "        sql.SQL(', ').join(sql.Placeholder() * len(lstAgencyNames))\n",
    "    )\n",
    "\n",
    "    values_list = [row[col] for col in lstAgencyNames]\n",
    "    #print(insert_query)\n",
    "    #print(values_list)\n",
    "    \n",
    "    # Execute the query\n",
    "    cursor.execute(insert_query, values_list)    \n",
    "    break;\n",
    "'''As our agency dataset has records of a single agency we can put a break statement so that there is no redundant data'''    \n",
    "\n",
    "# Commit the changes and close the connection\n",
    "conn.commit()\n",
    "cursor.close()\n",
    "conn.close()\n",
    "print(\"Agency record created successfully\")"
   ]
  },
  {
   "cell_type": "markdown",
   "id": "70e2a0aa",
   "metadata": {},
   "source": [
    "## Inserting into overtimepaydetails table"
   ]
  },
  {
   "cell_type": "code",
   "execution_count": 15,
   "id": "fe025044",
   "metadata": {},
   "outputs": [],
   "source": [
    "# List of column names representing employee information like OT Hours, Total OT Paid\n",
    "lstovertimepaydetails = ['EmployeeId', 'AgencyId', 'OT Hours','Total OT Paid']"
   ]
  },
  {
   "cell_type": "code",
   "execution_count": 17,
   "id": "ec7d184c",
   "metadata": {},
   "outputs": [
    {
     "name": "stdout",
     "output_type": "stream",
     "text": [
      "Data got successfully inserted into OverTimePayDetails table\n"
     ]
    }
   ],
   "source": [
    "table_name = 'overtimepaydetails'\n",
    "\n",
    "\n",
    "# Connect to the PostgreSQL database\n",
    "conn = psycopg2.connect(\n",
    "    host=\"localhost\",\n",
    "    database=\"NYCPayRoll\",\n",
    "    user=\"postgres\",\n",
    "    password=\"your_password\")\n",
    "\n",
    "cursor = conn.cursor()\n",
    "\n",
    "# Iterate through the DataFrame rows and insert into the PostgreSQL table\n",
    "for index, row in df.iterrows():\n",
    "    # Create an SQL query for insertion\n",
    "    insert_query = sql.SQL('INSERT INTO {} ({}) VALUES ({})').format(\n",
    "        sql.Identifier(table_name),\n",
    "        sql.SQL(', ').join(map(sql.Identifier, lstovertimepaydetails)),\n",
    "        sql.SQL(', ').join(sql.Placeholder() * len(lstovertimepaydetails))\n",
    "    )\n",
    "\n",
    "    values_list = [row[col] for col in lstovertimepaydetails]\n",
    "    #print(insert_query)\n",
    "    #print(values_list)\n",
    "    \n",
    "    # Execute the query\n",
    "    cursor.execute(insert_query, values_list)    \n",
    "    \n",
    "    # Execute the query\n",
    "    #cursor.execute(insert_query, tuple(row))\n",
    "\n",
    "# Commit the changes and close the connection\n",
    "conn.commit()\n",
    "cursor.close()\n",
    "conn.close()\n",
    "print('Data got successfully inserted into OverTimePayDetails table')"
   ]
  },
  {
   "cell_type": "markdown",
   "id": "acaf2898",
   "metadata": {},
   "source": [
    "## Importing Data from Postgres NYCPayRoll Database into Dataframe in Python"
   ]
  },
  {
   "cell_type": "code",
   "execution_count": 58,
   "id": "fdb26f3e",
   "metadata": {},
   "outputs": [],
   "source": [
    "# Creating a connection object using psycopg2.connect() method\n",
    "conn = psycopg2.connect(\n",
    "    host=\"localhost\",\n",
    "    database=\"NYCPayRoll\",\n",
    "    user=\"postgres\",\n",
    "    password=\"your_password\")"
   ]
  },
  {
   "cell_type": "markdown",
   "id": "f654057f",
   "metadata": {},
   "source": [
    "### Importing Data from employeedetails to dfEmployees Dataframe"
   ]
  },
  {
   "cell_type": "code",
   "execution_count": 19,
   "id": "a3837c10",
   "metadata": {},
   "outputs": [],
   "source": [
    "# Reading data from a PostgreSQL database table into a pandas DataFrame\n",
    "# 'pd.read_sql_query()' is a pandas function used to execute a SQL query and read the results into a DataFrame.\n",
    "dfEmployees = pd.read_sql_query(\"\"\"SELECT * FROM \"employeedetails\" \"\"\", conn)\n"
   ]
  },
  {
   "cell_type": "code",
   "execution_count": 20,
   "id": "dd0c579f",
   "metadata": {},
   "outputs": [
    {
     "data": {
      "text/html": [
       "<div>\n",
       "<style scoped>\n",
       "    .dataframe tbody tr th:only-of-type {\n",
       "        vertical-align: middle;\n",
       "    }\n",
       "\n",
       "    .dataframe tbody tr th {\n",
       "        vertical-align: top;\n",
       "    }\n",
       "\n",
       "    .dataframe thead th {\n",
       "        text-align: right;\n",
       "    }\n",
       "</style>\n",
       "<table border=\"1\" class=\"dataframe\">\n",
       "  <thead>\n",
       "    <tr style=\"text-align: right;\">\n",
       "      <th></th>\n",
       "      <th>EmployeeId</th>\n",
       "      <th>Last Name</th>\n",
       "      <th>First Name</th>\n",
       "      <th>Mid Init</th>\n",
       "      <th>Agency Start Date</th>\n",
       "      <th>Title Description</th>\n",
       "    </tr>\n",
       "  </thead>\n",
       "  <tbody>\n",
       "    <tr>\n",
       "      <th>0</th>\n",
       "      <td>1</td>\n",
       "      <td>HERRERA</td>\n",
       "      <td>JUDITH</td>\n",
       "      <td>A</td>\n",
       "      <td>06-01-1998</td>\n",
       "      <td>CHILD PROTECTIVE SPECIALIST</td>\n",
       "    </tr>\n",
       "    <tr>\n",
       "      <th>1</th>\n",
       "      <td>2</td>\n",
       "      <td>MADDUX</td>\n",
       "      <td>DAVINA</td>\n",
       "      <td>P</td>\n",
       "      <td>06-01-1998</td>\n",
       "      <td>CHILD PROTECTIVE SPECIALIST</td>\n",
       "    </tr>\n",
       "    <tr>\n",
       "      <th>2</th>\n",
       "      <td>3</td>\n",
       "      <td>LYN</td>\n",
       "      <td>JOAN</td>\n",
       "      <td>A</td>\n",
       "      <td>10-05-1998</td>\n",
       "      <td>CHILD PROTECTIVE SPECIALIST</td>\n",
       "    </tr>\n",
       "    <tr>\n",
       "      <th>3</th>\n",
       "      <td>4</td>\n",
       "      <td>EKPO</td>\n",
       "      <td>EKANEM</td>\n",
       "      <td>G</td>\n",
       "      <td>07-06-1998</td>\n",
       "      <td>CHILD AND FAMILY SPECIALIST</td>\n",
       "    </tr>\n",
       "    <tr>\n",
       "      <th>4</th>\n",
       "      <td>5</td>\n",
       "      <td>SMITH</td>\n",
       "      <td>DWAYNE</td>\n",
       "      <td>NaN</td>\n",
       "      <td>12-07-1998</td>\n",
       "      <td>PRINCIPAL ADMINISTRATIVE ASSOCIATE -  NON SUPVR</td>\n",
       "    </tr>\n",
       "  </tbody>\n",
       "</table>\n",
       "</div>"
      ],
      "text/plain": [
       "   EmployeeId Last Name First Name Mid Init Agency Start Date  \\\n",
       "0           1   HERRERA     JUDITH        A        06-01-1998   \n",
       "1           2    MADDUX     DAVINA        P        06-01-1998   \n",
       "2           3       LYN       JOAN        A        10-05-1998   \n",
       "3           4      EKPO     EKANEM        G        07-06-1998   \n",
       "4           5     SMITH     DWAYNE      NaN        12-07-1998   \n",
       "\n",
       "                                 Title Description  \n",
       "0                      CHILD PROTECTIVE SPECIALIST  \n",
       "1                      CHILD PROTECTIVE SPECIALIST  \n",
       "2                      CHILD PROTECTIVE SPECIALIST  \n",
       "3                      CHILD AND FAMILY SPECIALIST  \n",
       "4  PRINCIPAL ADMINISTRATIVE ASSOCIATE -  NON SUPVR  "
      ]
     },
     "execution_count": 20,
     "metadata": {},
     "output_type": "execute_result"
    }
   ],
   "source": [
    "dfEmployees.head()"
   ]
  },
  {
   "cell_type": "code",
   "execution_count": 119,
   "id": "8e18dfc1",
   "metadata": {},
   "outputs": [
    {
     "data": {
      "text/plain": [
       "Agency Start Date\n",
       "06/23/1996    495\n",
       "07/04/2011    430\n",
       "08/29/2022    160\n",
       "02/05/2018    150\n",
       "11/21/2022    150\n",
       "             ... \n",
       "05/04/2015      5\n",
       "08/07/2017      5\n",
       "07/24/2006      5\n",
       "07/25/2016      5\n",
       "09/18/2000      5\n",
       "Name: count, Length: 358, dtype: int64"
      ]
     },
     "execution_count": 119,
     "metadata": {},
     "output_type": "execute_result"
    }
   ],
   "source": [
    "dfEmployees[\"Agency Start Date\"].value_counts()"
   ]
  },
  {
   "cell_type": "code",
   "execution_count": 21,
   "id": "dbe5edf1",
   "metadata": {},
   "outputs": [],
   "source": [
    "# Reading data from a PostgreSQL database table (\"agencydetails\") into a pandas DataFrame\n",
    "# 'pd.read_sql_query()' is used to execute a SQL query and read the results into a DataFrame.\n",
    "dfagencydetails = pd.read_sql_query(\"\"\"SELECT * FROM \"agencydetails\" \"\"\", conn)"
   ]
  },
  {
   "cell_type": "code",
   "execution_count": 22,
   "id": "882c300e",
   "metadata": {},
   "outputs": [
    {
     "data": {
      "text/html": [
       "<div>\n",
       "<style scoped>\n",
       "    .dataframe tbody tr th:only-of-type {\n",
       "        vertical-align: middle;\n",
       "    }\n",
       "\n",
       "    .dataframe tbody tr th {\n",
       "        vertical-align: top;\n",
       "    }\n",
       "\n",
       "    .dataframe thead th {\n",
       "        text-align: right;\n",
       "    }\n",
       "</style>\n",
       "<table border=\"1\" class=\"dataframe\">\n",
       "  <thead>\n",
       "    <tr style=\"text-align: right;\">\n",
       "      <th></th>\n",
       "      <th>AgencyId</th>\n",
       "      <th>Fiscal Year</th>\n",
       "      <th>Payroll Number</th>\n",
       "      <th>Agency Name</th>\n",
       "      <th>Work Location Borough</th>\n",
       "    </tr>\n",
       "  </thead>\n",
       "  <tbody>\n",
       "    <tr>\n",
       "      <th>0</th>\n",
       "      <td>SVCS</td>\n",
       "      <td>2023</td>\n",
       "      <td>67</td>\n",
       "      <td>ADMIN FOR CHILDREN'S SVCS</td>\n",
       "      <td>BROOKLYN</td>\n",
       "    </tr>\n",
       "  </tbody>\n",
       "</table>\n",
       "</div>"
      ],
      "text/plain": [
       "  AgencyId  Fiscal Year  Payroll Number                Agency Name  \\\n",
       "0     SVCS         2023              67  ADMIN FOR CHILDREN'S SVCS   \n",
       "\n",
       "  Work Location Borough  \n",
       "0              BROOKLYN  "
      ]
     },
     "execution_count": 22,
     "metadata": {},
     "output_type": "execute_result"
    }
   ],
   "source": [
    "dfagencydetails.head()"
   ]
  },
  {
   "cell_type": "code",
   "execution_count": 112,
   "id": "f97ae804",
   "metadata": {},
   "outputs": [],
   "source": [
    "# Reading data from a PostgreSQL database table (\"basepaydetails\") into a pandas DataFrame\n",
    "# 'pd.read_sql_query()' is utilized to execute a SQL query and read the results into a DataFrame\n",
    "dfbasepaydetails = pd.read_sql_query(\"\"\"SELECT * FROM \"basepaydetails\" \"\"\", conn)"
   ]
  },
  {
   "cell_type": "code",
   "execution_count": 113,
   "id": "4246c3f3",
   "metadata": {},
   "outputs": [
    {
     "data": {
      "text/html": [
       "<div>\n",
       "<style scoped>\n",
       "    .dataframe tbody tr th:only-of-type {\n",
       "        vertical-align: middle;\n",
       "    }\n",
       "\n",
       "    .dataframe tbody tr th {\n",
       "        vertical-align: top;\n",
       "    }\n",
       "\n",
       "    .dataframe thead th {\n",
       "        text-align: right;\n",
       "    }\n",
       "</style>\n",
       "<table border=\"1\" class=\"dataframe\">\n",
       "  <thead>\n",
       "    <tr style=\"text-align: right;\">\n",
       "      <th></th>\n",
       "      <th>basepayid</th>\n",
       "      <th>EmployeeId</th>\n",
       "      <th>AgencyId</th>\n",
       "      <th>Leave Status as of June 30</th>\n",
       "      <th>Base Salary</th>\n",
       "      <th>Pay Basis</th>\n",
       "      <th>Regular Hours</th>\n",
       "      <th>Regular Gross Paid</th>\n",
       "      <th>Total Other Pay</th>\n",
       "    </tr>\n",
       "  </thead>\n",
       "  <tbody>\n",
       "    <tr>\n",
       "      <th>0</th>\n",
       "      <td>1684</td>\n",
       "      <td>1</td>\n",
       "      <td>SVCS</td>\n",
       "      <td>ACTIVE</td>\n",
       "      <td>66022.0</td>\n",
       "      <td>per Annum</td>\n",
       "      <td>1442.75</td>\n",
       "      <td>52857.81</td>\n",
       "      <td>24343.23</td>\n",
       "    </tr>\n",
       "    <tr>\n",
       "      <th>1</th>\n",
       "      <td>1685</td>\n",
       "      <td>2</td>\n",
       "      <td>SVCS</td>\n",
       "      <td>ACTIVE</td>\n",
       "      <td>66022.0</td>\n",
       "      <td>per Annum</td>\n",
       "      <td>1820.00</td>\n",
       "      <td>66067.98</td>\n",
       "      <td>25353.14</td>\n",
       "    </tr>\n",
       "    <tr>\n",
       "      <th>2</th>\n",
       "      <td>1686</td>\n",
       "      <td>3</td>\n",
       "      <td>SVCS</td>\n",
       "      <td>ACTIVE</td>\n",
       "      <td>66022.0</td>\n",
       "      <td>per Annum</td>\n",
       "      <td>1820.00</td>\n",
       "      <td>66103.17</td>\n",
       "      <td>16364.27</td>\n",
       "    </tr>\n",
       "    <tr>\n",
       "      <th>3</th>\n",
       "      <td>1687</td>\n",
       "      <td>4</td>\n",
       "      <td>SVCS</td>\n",
       "      <td>ACTIVE</td>\n",
       "      <td>96267.0</td>\n",
       "      <td>per Annum</td>\n",
       "      <td>1820.00</td>\n",
       "      <td>96382.90</td>\n",
       "      <td>4485.78</td>\n",
       "    </tr>\n",
       "    <tr>\n",
       "      <th>4</th>\n",
       "      <td>1688</td>\n",
       "      <td>5</td>\n",
       "      <td>SVCS</td>\n",
       "      <td>ACTIVE</td>\n",
       "      <td>57947.0</td>\n",
       "      <td>per Annum</td>\n",
       "      <td>1820.00</td>\n",
       "      <td>57788.13</td>\n",
       "      <td>4341.21</td>\n",
       "    </tr>\n",
       "  </tbody>\n",
       "</table>\n",
       "</div>"
      ],
      "text/plain": [
       "   basepayid  EmployeeId AgencyId Leave Status as of June 30  Base Salary  \\\n",
       "0       1684           1     SVCS                     ACTIVE      66022.0   \n",
       "1       1685           2     SVCS                     ACTIVE      66022.0   \n",
       "2       1686           3     SVCS                     ACTIVE      66022.0   \n",
       "3       1687           4     SVCS                     ACTIVE      96267.0   \n",
       "4       1688           5     SVCS                     ACTIVE      57947.0   \n",
       "\n",
       "   Pay Basis  Regular Hours  Regular Gross Paid  Total Other Pay  \n",
       "0  per Annum        1442.75            52857.81         24343.23  \n",
       "1  per Annum        1820.00            66067.98         25353.14  \n",
       "2  per Annum        1820.00            66103.17         16364.27  \n",
       "3  per Annum        1820.00            96382.90          4485.78  \n",
       "4  per Annum        1820.00            57788.13          4341.21  "
      ]
     },
     "execution_count": 113,
     "metadata": {},
     "output_type": "execute_result"
    }
   ],
   "source": [
    "dfbasepaydetails.head()"
   ]
  },
  {
   "cell_type": "code",
   "execution_count": 26,
   "id": "900f7c58",
   "metadata": {},
   "outputs": [],
   "source": [
    "# Reading data from a PostgreSQL database table (\"overtimepaydetails\") into a pandas DataFrame\n",
    "# 'pd.read_sql_query()' is utilized to execute a SQL query and read the results into a DataFrame\n",
    "dfovertimepaydetails = pd.read_sql_query(\"\"\"SELECT * FROM \"overtimepaydetails\" \"\"\", conn)"
   ]
  },
  {
   "cell_type": "code",
   "execution_count": 27,
   "id": "3f0eba4d",
   "metadata": {},
   "outputs": [
    {
     "data": {
      "text/html": [
       "<div>\n",
       "<style scoped>\n",
       "    .dataframe tbody tr th:only-of-type {\n",
       "        vertical-align: middle;\n",
       "    }\n",
       "\n",
       "    .dataframe tbody tr th {\n",
       "        vertical-align: top;\n",
       "    }\n",
       "\n",
       "    .dataframe thead th {\n",
       "        text-align: right;\n",
       "    }\n",
       "</style>\n",
       "<table border=\"1\" class=\"dataframe\">\n",
       "  <thead>\n",
       "    <tr style=\"text-align: right;\">\n",
       "      <th></th>\n",
       "      <th>overtimepayid</th>\n",
       "      <th>EmployeeId</th>\n",
       "      <th>AgencyId</th>\n",
       "      <th>OT Hours</th>\n",
       "      <th>Total OT Paid</th>\n",
       "    </tr>\n",
       "  </thead>\n",
       "  <tbody>\n",
       "    <tr>\n",
       "      <th>0</th>\n",
       "      <td>1</td>\n",
       "      <td>1</td>\n",
       "      <td>SVCS</td>\n",
       "      <td>19.75</td>\n",
       "      <td>903.43</td>\n",
       "    </tr>\n",
       "    <tr>\n",
       "      <th>1</th>\n",
       "      <td>2</td>\n",
       "      <td>2</td>\n",
       "      <td>SVCS</td>\n",
       "      <td>37.75</td>\n",
       "      <td>1438.70</td>\n",
       "    </tr>\n",
       "    <tr>\n",
       "      <th>2</th>\n",
       "      <td>3</td>\n",
       "      <td>3</td>\n",
       "      <td>SVCS</td>\n",
       "      <td>421.75</td>\n",
       "      <td>20542.24</td>\n",
       "    </tr>\n",
       "    <tr>\n",
       "      <th>3</th>\n",
       "      <td>4</td>\n",
       "      <td>4</td>\n",
       "      <td>SVCS</td>\n",
       "      <td>12.25</td>\n",
       "      <td>650.11</td>\n",
       "    </tr>\n",
       "    <tr>\n",
       "      <th>4</th>\n",
       "      <td>5</td>\n",
       "      <td>5</td>\n",
       "      <td>SVCS</td>\n",
       "      <td>0.00</td>\n",
       "      <td>0.00</td>\n",
       "    </tr>\n",
       "  </tbody>\n",
       "</table>\n",
       "</div>"
      ],
      "text/plain": [
       "   overtimepayid  EmployeeId AgencyId  OT Hours  Total OT Paid\n",
       "0              1           1     SVCS     19.75         903.43\n",
       "1              2           2     SVCS     37.75        1438.70\n",
       "2              3           3     SVCS    421.75       20542.24\n",
       "3              4           4     SVCS     12.25         650.11\n",
       "4              5           5     SVCS      0.00           0.00"
      ]
     },
     "execution_count": 27,
     "metadata": {},
     "output_type": "execute_result"
    }
   ],
   "source": [
    "dfovertimepaydetails.head()"
   ]
  },
  {
   "cell_type": "markdown",
   "id": "99967b60",
   "metadata": {},
   "source": [
    "## Exploratory Data Analysis"
   ]
  },
  {
   "cell_type": "markdown",
   "id": "b22f4f5f",
   "metadata": {},
   "source": [
    "#### Exploring dfEmployees Dataframe"
   ]
  },
  {
   "cell_type": "code",
   "execution_count": 30,
   "id": "6e23ec46",
   "metadata": {},
   "outputs": [
    {
     "name": "stdout",
     "output_type": "stream",
     "text": [
      "<class 'pandas.core.frame.DataFrame'>\n",
      "RangeIndex: 1683 entries, 0 to 1682\n",
      "Data columns (total 6 columns):\n",
      " #   Column             Non-Null Count  Dtype \n",
      "---  ------             --------------  ----- \n",
      " 0   EmployeeId         1683 non-null   int64 \n",
      " 1   Last Name          1683 non-null   object\n",
      " 2   First Name         1683 non-null   object\n",
      " 3   Mid Init           1683 non-null   object\n",
      " 4   Agency Start Date  1683 non-null   object\n",
      " 5   Title Description  1683 non-null   object\n",
      "dtypes: int64(1), object(5)\n",
      "memory usage: 79.0+ KB\n"
     ]
    }
   ],
   "source": [
    "dfEmployees.info()"
   ]
  },
  {
   "cell_type": "markdown",
   "id": "8bc1c042",
   "metadata": {},
   "source": [
    "#### Checking for Null values in dfEmployees"
   ]
  },
  {
   "cell_type": "code",
   "execution_count": 43,
   "id": "886c5a44",
   "metadata": {},
   "outputs": [
    {
     "data": {
      "text/plain": [
       "EmployeeId           0\n",
       "Last Name            0\n",
       "First Name           0\n",
       "Mid Init             0\n",
       "Agency Start Date    0\n",
       "Title Description    0\n",
       "dtype: int64"
      ]
     },
     "execution_count": 43,
     "metadata": {},
     "output_type": "execute_result"
    }
   ],
   "source": [
    "dfEmployees.isnull().sum()"
   ]
  },
  {
   "cell_type": "markdown",
   "id": "e9a912db",
   "metadata": {},
   "source": [
    "#### As per the above result it seems there are no null values but Mid Init which stands for Middle Initial in Name can contain nul values we check this scenario"
   ]
  },
  {
   "cell_type": "code",
   "execution_count": 42,
   "id": "5fd968c6",
   "metadata": {},
   "outputs": [
    {
     "data": {
      "text/plain": [
       "431"
      ]
     },
     "execution_count": 42,
     "metadata": {},
     "output_type": "execute_result"
    }
   ],
   "source": [
    "len(dfEmployees[dfEmployees[\"Mid Init\"] == 'NaN'])\n",
    "#Mid Init contains null values as shown below"
   ]
  },
  {
   "cell_type": "markdown",
   "id": "fd8ab5ec",
   "metadata": {},
   "source": [
    "#### Agency Start Date is date field indicating joining date of an Employee but it is given as an Object type in the dataframe we can convert this to Date type"
   ]
  },
  {
   "cell_type": "code",
   "execution_count": 44,
   "id": "292116a7",
   "metadata": {},
   "outputs": [],
   "source": [
    "dfEmployees[\"Agency Start Date\"] = pd.to_datetime(dfEmployees[\"Agency Start Date\"], errors='coerce')"
   ]
  },
  {
   "cell_type": "code",
   "execution_count": 46,
   "id": "1f688a74",
   "metadata": {},
   "outputs": [
    {
     "name": "stdout",
     "output_type": "stream",
     "text": [
      "<class 'pandas.core.series.Series'>\n",
      "RangeIndex: 1683 entries, 0 to 1682\n",
      "Series name: Agency Start Date\n",
      "Non-Null Count  Dtype         \n",
      "--------------  -----         \n",
      "532 non-null    datetime64[ns]\n",
      "dtypes: datetime64[ns](1)\n",
      "memory usage: 13.3 KB\n"
     ]
    }
   ],
   "source": [
    "dfEmployees[\"Agency Start Date\"].info()"
   ]
  },
  {
   "cell_type": "markdown",
   "id": "26a4e5d9",
   "metadata": {},
   "source": [
    "### EDA on dfbasepaydetails"
   ]
  },
  {
   "cell_type": "code",
   "execution_count": 114,
   "id": "43c1d256",
   "metadata": {},
   "outputs": [
    {
     "name": "stdout",
     "output_type": "stream",
     "text": [
      "<class 'pandas.core.frame.DataFrame'>\n",
      "RangeIndex: 1683 entries, 0 to 1682\n",
      "Data columns (total 9 columns):\n",
      " #   Column                      Non-Null Count  Dtype  \n",
      "---  ------                      --------------  -----  \n",
      " 0   basepayid                   1683 non-null   int64  \n",
      " 1   EmployeeId                  1683 non-null   int64  \n",
      " 2   AgencyId                    1683 non-null   object \n",
      " 3   Leave Status as of June 30  1683 non-null   object \n",
      " 4   Base Salary                 1683 non-null   float64\n",
      " 5   Pay Basis                   1683 non-null   object \n",
      " 6   Regular Hours               1683 non-null   float64\n",
      " 7   Regular Gross Paid          1683 non-null   float64\n",
      " 8   Total Other Pay             1683 non-null   float64\n",
      "dtypes: float64(4), int64(2), object(3)\n",
      "memory usage: 118.5+ KB\n"
     ]
    }
   ],
   "source": [
    "dfbasepaydetails.info()"
   ]
  },
  {
   "cell_type": "code",
   "execution_count": 115,
   "id": "3873e87d",
   "metadata": {},
   "outputs": [
    {
     "data": {
      "text/plain": [
       "basepayid                     0\n",
       "EmployeeId                    0\n",
       "AgencyId                      0\n",
       "Leave Status as of June 30    0\n",
       "Base Salary                   0\n",
       "Pay Basis                     0\n",
       "Regular Hours                 0\n",
       "Regular Gross Paid            0\n",
       "Total Other Pay               0\n",
       "dtype: int64"
      ]
     },
     "execution_count": 115,
     "metadata": {},
     "output_type": "execute_result"
    }
   ],
   "source": [
    "# Checking the number of null values in the 'Base Salary' column of the DataFrame\n",
    "\n",
    "dfbasepaydetails.isnull().sum()"
   ]
  },
  {
   "cell_type": "code",
   "execution_count": 116,
   "id": "2b4eeb34",
   "metadata": {},
   "outputs": [
    {
     "data": {
      "text/html": [
       "<div>\n",
       "<style scoped>\n",
       "    .dataframe tbody tr th:only-of-type {\n",
       "        vertical-align: middle;\n",
       "    }\n",
       "\n",
       "    .dataframe tbody tr th {\n",
       "        vertical-align: top;\n",
       "    }\n",
       "\n",
       "    .dataframe thead th {\n",
       "        text-align: right;\n",
       "    }\n",
       "</style>\n",
       "<table border=\"1\" class=\"dataframe\">\n",
       "  <thead>\n",
       "    <tr style=\"text-align: right;\">\n",
       "      <th></th>\n",
       "      <th>basepayid</th>\n",
       "      <th>EmployeeId</th>\n",
       "      <th>Base Salary</th>\n",
       "      <th>Regular Hours</th>\n",
       "      <th>Regular Gross Paid</th>\n",
       "      <th>Total Other Pay</th>\n",
       "    </tr>\n",
       "  </thead>\n",
       "  <tbody>\n",
       "    <tr>\n",
       "      <th>count</th>\n",
       "      <td>1683.000000</td>\n",
       "      <td>1683.000000</td>\n",
       "      <td>1683.000000</td>\n",
       "      <td>1683.000000</td>\n",
       "      <td>1683.000000</td>\n",
       "      <td>1683.000000</td>\n",
       "    </tr>\n",
       "    <tr>\n",
       "      <th>mean</th>\n",
       "      <td>2525.000000</td>\n",
       "      <td>842.000000</td>\n",
       "      <td>66183.275312</td>\n",
       "      <td>1263.983405</td>\n",
       "      <td>48038.527683</td>\n",
       "      <td>7653.888693</td>\n",
       "    </tr>\n",
       "    <tr>\n",
       "      <th>std</th>\n",
       "      <td>485.984568</td>\n",
       "      <td>485.984568</td>\n",
       "      <td>18214.415222</td>\n",
       "      <td>747.097908</td>\n",
       "      <td>32946.042426</td>\n",
       "      <td>8147.436186</td>\n",
       "    </tr>\n",
       "    <tr>\n",
       "      <th>min</th>\n",
       "      <td>1684.000000</td>\n",
       "      <td>1.000000</td>\n",
       "      <td>25.950000</td>\n",
       "      <td>-280.000000</td>\n",
       "      <td>-11343.970000</td>\n",
       "      <td>-18131.680000</td>\n",
       "    </tr>\n",
       "    <tr>\n",
       "      <th>25%</th>\n",
       "      <td>2104.500000</td>\n",
       "      <td>421.500000</td>\n",
       "      <td>55463.000000</td>\n",
       "      <td>560.000000</td>\n",
       "      <td>16418.430000</td>\n",
       "      <td>1966.600000</td>\n",
       "    </tr>\n",
       "    <tr>\n",
       "      <th>50%</th>\n",
       "      <td>2525.000000</td>\n",
       "      <td>842.000000</td>\n",
       "      <td>65559.000000</td>\n",
       "      <td>1820.000000</td>\n",
       "      <td>55514.130000</td>\n",
       "      <td>5376.850000</td>\n",
       "    </tr>\n",
       "    <tr>\n",
       "      <th>75%</th>\n",
       "      <td>2945.500000</td>\n",
       "      <td>1262.500000</td>\n",
       "      <td>67983.000000</td>\n",
       "      <td>1820.000000</td>\n",
       "      <td>66103.170000</td>\n",
       "      <td>12023.865000</td>\n",
       "    </tr>\n",
       "    <tr>\n",
       "      <th>max</th>\n",
       "      <td>3366.000000</td>\n",
       "      <td>1683.000000</td>\n",
       "      <td>177312.000000</td>\n",
       "      <td>2160.000000</td>\n",
       "      <td>163011.360000</td>\n",
       "      <td>109573.000000</td>\n",
       "    </tr>\n",
       "  </tbody>\n",
       "</table>\n",
       "</div>"
      ],
      "text/plain": [
       "         basepayid   EmployeeId    Base Salary  Regular Hours  \\\n",
       "count  1683.000000  1683.000000    1683.000000    1683.000000   \n",
       "mean   2525.000000   842.000000   66183.275312    1263.983405   \n",
       "std     485.984568   485.984568   18214.415222     747.097908   \n",
       "min    1684.000000     1.000000      25.950000    -280.000000   \n",
       "25%    2104.500000   421.500000   55463.000000     560.000000   \n",
       "50%    2525.000000   842.000000   65559.000000    1820.000000   \n",
       "75%    2945.500000  1262.500000   67983.000000    1820.000000   \n",
       "max    3366.000000  1683.000000  177312.000000    2160.000000   \n",
       "\n",
       "       Regular Gross Paid  Total Other Pay  \n",
       "count         1683.000000      1683.000000  \n",
       "mean         48038.527683      7653.888693  \n",
       "std          32946.042426      8147.436186  \n",
       "min         -11343.970000    -18131.680000  \n",
       "25%          16418.430000      1966.600000  \n",
       "50%          55514.130000      5376.850000  \n",
       "75%          66103.170000     12023.865000  \n",
       "max         163011.360000    109573.000000  "
      ]
     },
     "execution_count": 116,
     "metadata": {},
     "output_type": "execute_result"
    }
   ],
   "source": [
    "dfbasepaydetails.describe()"
   ]
  },
  {
   "cell_type": "code",
   "execution_count": 65,
   "id": "0e1ad9ad",
   "metadata": {},
   "outputs": [],
   "source": [
    "#We see a big variation in the base salary of employees the lowest being 25.950 and the hightes being 177312"
   ]
  },
  {
   "cell_type": "code",
   "execution_count": 117,
   "id": "77d39c8d",
   "metadata": {},
   "outputs": [
    {
     "data": {
      "text/plain": [
       "<Axes: >"
      ]
     },
     "execution_count": 117,
     "metadata": {},
     "output_type": "execute_result"
    },
    {
     "data": {
      "image/png": "[encoded data removed]",
      "text/plain": [
       "<Figure size 640x480 with 1 Axes>"
      ]
     },
     "metadata": {},
     "output_type": "display_data"
    }
   ],
   "source": [
    "# Creating a box plot for the 'Base Salary' column in the DataFrame\n",
    "dfbasepaydetails[\"Base Salary\"].plot(kind = 'box')"
   ]
  },
  {
   "cell_type": "code",
   "execution_count": 66,
   "id": "5a9d47c7",
   "metadata": {},
   "outputs": [],
   "source": [
    "#Lets see the data row corresponding to min base pay and max base pay from dfbasepaydetails "
   ]
  },
  {
   "cell_type": "code",
   "execution_count": 118,
   "id": "46869997",
   "metadata": {},
   "outputs": [
    {
     "data": {
      "text/html": [
       "<div>\n",
       "<style scoped>\n",
       "    .dataframe tbody tr th:only-of-type {\n",
       "        vertical-align: middle;\n",
       "    }\n",
       "\n",
       "    .dataframe tbody tr th {\n",
       "        vertical-align: top;\n",
       "    }\n",
       "\n",
       "    .dataframe thead th {\n",
       "        text-align: right;\n",
       "    }\n",
       "</style>\n",
       "<table border=\"1\" class=\"dataframe\">\n",
       "  <thead>\n",
       "    <tr style=\"text-align: right;\">\n",
       "      <th></th>\n",
       "      <th>basepayid</th>\n",
       "      <th>EmployeeId</th>\n",
       "      <th>AgencyId</th>\n",
       "      <th>Leave Status as of June 30</th>\n",
       "      <th>Base Salary</th>\n",
       "      <th>Pay Basis</th>\n",
       "      <th>Regular Hours</th>\n",
       "      <th>Regular Gross Paid</th>\n",
       "      <th>Total Other Pay</th>\n",
       "    </tr>\n",
       "  </thead>\n",
       "  <tbody>\n",
       "    <tr>\n",
       "      <th>1437</th>\n",
       "      <td>3121</td>\n",
       "      <td>1438</td>\n",
       "      <td>SVCS</td>\n",
       "      <td>CEASED</td>\n",
       "      <td>25.95</td>\n",
       "      <td>per Hour</td>\n",
       "      <td>0.0</td>\n",
       "      <td>0.0</td>\n",
       "      <td>5864.16</td>\n",
       "    </tr>\n",
       "  </tbody>\n",
       "</table>\n",
       "</div>"
      ],
      "text/plain": [
       "      basepayid  EmployeeId AgencyId Leave Status as of June 30  Base Salary  \\\n",
       "1437       3121        1438     SVCS                     CEASED        25.95   \n",
       "\n",
       "     Pay Basis  Regular Hours  Regular Gross Paid  Total Other Pay  \n",
       "1437  per Hour            0.0                 0.0          5864.16  "
      ]
     },
     "execution_count": 118,
     "metadata": {},
     "output_type": "execute_result"
    }
   ],
   "source": [
    "dfbasepaydetails[dfbasepaydetails[\"Base Salary\"] == 25.950]"
   ]
  },
  {
   "cell_type": "code",
   "execution_count": 119,
   "id": "8b9d3cc4",
   "metadata": {},
   "outputs": [
    {
     "data": {
      "text/html": [
       "<div>\n",
       "<style scoped>\n",
       "    .dataframe tbody tr th:only-of-type {\n",
       "        vertical-align: middle;\n",
       "    }\n",
       "\n",
       "    .dataframe tbody tr th {\n",
       "        vertical-align: top;\n",
       "    }\n",
       "\n",
       "    .dataframe thead th {\n",
       "        text-align: right;\n",
       "    }\n",
       "</style>\n",
       "<table border=\"1\" class=\"dataframe\">\n",
       "  <thead>\n",
       "    <tr style=\"text-align: right;\">\n",
       "      <th></th>\n",
       "      <th>basepayid</th>\n",
       "      <th>EmployeeId</th>\n",
       "      <th>AgencyId</th>\n",
       "      <th>Leave Status as of June 30</th>\n",
       "      <th>Base Salary</th>\n",
       "      <th>Pay Basis</th>\n",
       "      <th>Regular Hours</th>\n",
       "      <th>Regular Gross Paid</th>\n",
       "      <th>Total Other Pay</th>\n",
       "    </tr>\n",
       "  </thead>\n",
       "  <tbody>\n",
       "    <tr>\n",
       "      <th>1389</th>\n",
       "      <td>3073</td>\n",
       "      <td>1390</td>\n",
       "      <td>SVCS</td>\n",
       "      <td>ACTIVE</td>\n",
       "      <td>177312.0</td>\n",
       "      <td>per Annum</td>\n",
       "      <td>1820.0</td>\n",
       "      <td>163011.36</td>\n",
       "      <td>375.0</td>\n",
       "    </tr>\n",
       "  </tbody>\n",
       "</table>\n",
       "</div>"
      ],
      "text/plain": [
       "      basepayid  EmployeeId AgencyId Leave Status as of June 30  Base Salary  \\\n",
       "1389       3073        1390     SVCS                     ACTIVE     177312.0   \n",
       "\n",
       "      Pay Basis  Regular Hours  Regular Gross Paid  Total Other Pay  \n",
       "1389  per Annum         1820.0           163011.36            375.0  "
      ]
     },
     "execution_count": 119,
     "metadata": {},
     "output_type": "execute_result"
    }
   ],
   "source": [
    "dfbasepaydetails[dfbasepaydetails[\"Base Salary\"] == max(dfbasepaydetails[\"Base Salary\"])]"
   ]
  },
  {
   "cell_type": "markdown",
   "id": "9356698d",
   "metadata": {},
   "source": [
    "When we observe the two dataframes the differnce in values seems to be becasue of difference in Pay Basis for minimum \n",
    "we have pay per Hour and for Max we have it as per Annum so we will check for the entries for different payy basis"
   ]
  },
  {
   "cell_type": "code",
   "execution_count": 121,
   "id": "144a464d",
   "metadata": {},
   "outputs": [
    {
     "data": {
      "text/plain": [
       "Pay Basis\n",
       "per Annum    1673\n",
       "per Day         6\n",
       "per Hour        4\n",
       "Name: count, dtype: int64"
      ]
     },
     "execution_count": 121,
     "metadata": {},
     "output_type": "execute_result"
    }
   ],
   "source": [
    "dfbasepaydetails[\"Pay Basis\"].value_counts()"
   ]
  },
  {
   "cell_type": "markdown",
   "id": "a3f8150b",
   "metadata": {},
   "source": [
    "As there are more per Annum records we can convert both per Day and per Hour recors to per Annum"
   ]
  },
  {
   "cell_type": "code",
   "execution_count": 122,
   "id": "ad629fa7",
   "metadata": {},
   "outputs": [],
   "source": [
    "# Filtering DataFrame based on a condition\n",
    "# The expression 'dfbasepaydetails[\"Pay Basis\"] == 'per Day'' creates a boolean mask,\n",
    "# where each element is True if the corresponding value in the 'Pay Basis' column is 'per Day', and False otherwise\n",
    "perDayRecords = dfbasepaydetails[dfbasepaydetails[\"Pay Basis\"] == 'per Day']\n",
    "# Extracting indices from a filtered DataFrame\n",
    "perDayindices = perDayRecords.index.tolist()\n",
    "dfbasepaydetails.loc[perDayindices, \"Base Salary\"] *= 365\n",
    "dfbasepaydetails.loc[perDayindices, \"Pay Basis\"] = 'per Annum'"
   ]
  },
  {
   "cell_type": "code",
   "execution_count": 123,
   "id": "27b08324",
   "metadata": {},
   "outputs": [],
   "source": [
    "# Filtering DataFrame based on a condition\n",
    "# The expression 'dfbasepaydetails[\"Pay Basis\"] == 'per Day'' creates a boolean mask,\n",
    "# where each element is True if the corresponding value in the 'Pay Basis' column is 'per Day', and False otherwise\n",
    "perHourRecords = dfbasepaydetails[dfbasepaydetails[\"Pay Basis\"] == 'per Hour']\n",
    "# Extracting indices from a filtered DataFrame\n",
    "perHourindices = perHourRecords.index.tolist()\n",
    "dfbasepaydetails.loc[perHourindices, \"Base Salary\"] *= 2920 #2920 as we have considered 8 working hrs per day so 8*365 for annum\n",
    "dfbasepaydetails.loc[perHourindices, \"Pay Basis\"] = 'per Annum'"
   ]
  },
  {
   "cell_type": "code",
   "execution_count": 124,
   "id": "4af123b5",
   "metadata": {},
   "outputs": [
    {
     "data": {
      "text/plain": [
       "Pay Basis\n",
       "per Annum    1683\n",
       "Name: count, dtype: int64"
      ]
     },
     "execution_count": 124,
     "metadata": {},
     "output_type": "execute_result"
    }
   ],
   "source": [
    "dfbasepaydetails[\"Pay Basis\"].value_counts()"
   ]
  },
  {
   "cell_type": "code",
   "execution_count": 125,
   "id": "7ea41fd1",
   "metadata": {},
   "outputs": [
    {
     "data": {
      "text/plain": [
       "count      1683.000000\n",
       "mean      67018.298990\n",
       "std       18694.284026\n",
       "min       33454.000000\n",
       "25%       55463.000000\n",
       "50%       65605.000000\n",
       "75%       69192.500000\n",
       "max      205684.800000\n",
       "Name: Base Salary, dtype: float64"
      ]
     },
     "execution_count": 125,
     "metadata": {},
     "output_type": "execute_result"
    }
   ],
   "source": [
    "# Generating descriptive statistics for the 'Base Salary' column\n",
    "dfbasepaydetails[\"Base Salary\"].describe()"
   ]
  },
  {
   "cell_type": "code",
   "execution_count": 128,
   "id": "bff544eb",
   "metadata": {},
   "outputs": [
    {
     "data": {
      "text/plain": [
       "67018.29898989899"
      ]
     },
     "execution_count": 128,
     "metadata": {},
     "output_type": "execute_result"
    }
   ],
   "source": [
    "# Extracting the mean value from descriptive statistics for the 'Base Salary' column\n",
    "dfbasepaydetails[\"Base Salary\"].describe()[\"mean\"]"
   ]
  },
  {
   "cell_type": "code",
   "execution_count": 126,
   "id": "c6ea0730",
   "metadata": {},
   "outputs": [
    {
     "data": {
      "text/plain": [
       "<Axes: >"
      ]
     },
     "execution_count": 126,
     "metadata": {},
     "output_type": "execute_result"
    },
    {
     "data": {
      "image/png": "[encoded data removed]",
      "text/plain": [
       "<Figure size 640x480 with 1 Axes>"
      ]
     },
     "metadata": {},
     "output_type": "display_data"
    }
   ],
   "source": [
    "# Creating a box plot for the 'Base Salary' column in the DataFrame\n",
    "dfbasepaydetails[\"Base Salary\"].plot(kind = 'box')"
   ]
  },
  {
   "cell_type": "markdown",
   "id": "f6adabe3",
   "metadata": {},
   "source": [
    "##### EDA for Regular Gross Paid Column"
   ]
  },
  {
   "cell_type": "code",
   "execution_count": 127,
   "id": "1aa4357a",
   "metadata": {},
   "outputs": [
    {
     "data": {
      "text/plain": [
       "count      1683.000000\n",
       "mean      48038.527683\n",
       "std       32946.042426\n",
       "min      -11343.970000\n",
       "25%       16418.430000\n",
       "50%       55514.130000\n",
       "75%       66103.170000\n",
       "max      163011.360000\n",
       "Name: Regular Gross Paid, dtype: float64"
      ]
     },
     "execution_count": 127,
     "metadata": {},
     "output_type": "execute_result"
    }
   ],
   "source": [
    "# Generating descriptive statistics for the 'Regular Gross Paid' column\n",
    "dfbasepaydetails[\"Regular Gross Paid\"].describe()"
   ]
  },
  {
   "cell_type": "code",
   "execution_count": 139,
   "id": "da2078e7",
   "metadata": {},
   "outputs": [
    {
     "data": {
      "text/plain": [
       "<Axes: >"
      ]
     },
     "execution_count": 139,
     "metadata": {},
     "output_type": "execute_result"
    },
    {
     "data": {
      "image/png": "[encoded data removed]",
      "text/plain": [
       "<Figure size 640x480 with 1 Axes>"
      ]
     },
     "metadata": {},
     "output_type": "display_data"
    }
   ],
   "source": [
    "# Creating a box plot for the 'Regular Gross Paid' column in the DataFrame\n",
    "dfbasepaydetails[\"Regular Gross Paid\"].plot(kind = 'box')"
   ]
  },
  {
   "cell_type": "code",
   "execution_count": 132,
   "id": "4adb9b10",
   "metadata": {},
   "outputs": [
    {
     "data": {
      "text/plain": [
       "67018.29898989899"
      ]
     },
     "execution_count": 132,
     "metadata": {},
     "output_type": "execute_result"
    }
   ],
   "source": [
    "# Extracting the mean value from descriptive statistics for the 'Base Salary' column\n",
    "dfbasepaydetails[\"Base Salary\"].describe()[\"mean\"]"
   ]
  },
  {
   "cell_type": "code",
   "execution_count": 177,
   "id": "7283226a",
   "metadata": {},
   "outputs": [
    {
     "data": {
      "text/html": [
       "<div>\n",
       "<style scoped>\n",
       "    .dataframe tbody tr th:only-of-type {\n",
       "        vertical-align: middle;\n",
       "    }\n",
       "\n",
       "    .dataframe tbody tr th {\n",
       "        vertical-align: top;\n",
       "    }\n",
       "\n",
       "    .dataframe thead th {\n",
       "        text-align: right;\n",
       "    }\n",
       "</style>\n",
       "<table border=\"1\" class=\"dataframe\">\n",
       "  <thead>\n",
       "    <tr style=\"text-align: right;\">\n",
       "      <th></th>\n",
       "      <th>basepayid</th>\n",
       "      <th>EmployeeId</th>\n",
       "      <th>AgencyId</th>\n",
       "      <th>Leave Status as of June 30</th>\n",
       "      <th>Base Salary</th>\n",
       "      <th>Pay Basis</th>\n",
       "      <th>Regular Hours</th>\n",
       "      <th>Regular Gross Paid</th>\n",
       "      <th>Total Other Pay</th>\n",
       "    </tr>\n",
       "  </thead>\n",
       "  <tbody>\n",
       "    <tr>\n",
       "      <th>0</th>\n",
       "      <td>1684</td>\n",
       "      <td>1</td>\n",
       "      <td>SVCS</td>\n",
       "      <td>ACTIVE</td>\n",
       "      <td>66022.0</td>\n",
       "      <td>per Annum</td>\n",
       "      <td>1442.75</td>\n",
       "      <td>52857.81</td>\n",
       "      <td>24343.23</td>\n",
       "    </tr>\n",
       "    <tr>\n",
       "      <th>1</th>\n",
       "      <td>1685</td>\n",
       "      <td>2</td>\n",
       "      <td>SVCS</td>\n",
       "      <td>ACTIVE</td>\n",
       "      <td>66022.0</td>\n",
       "      <td>per Annum</td>\n",
       "      <td>1820.00</td>\n",
       "      <td>66067.98</td>\n",
       "      <td>25353.14</td>\n",
       "    </tr>\n",
       "    <tr>\n",
       "      <th>2</th>\n",
       "      <td>1686</td>\n",
       "      <td>3</td>\n",
       "      <td>SVCS</td>\n",
       "      <td>ACTIVE</td>\n",
       "      <td>66022.0</td>\n",
       "      <td>per Annum</td>\n",
       "      <td>1820.00</td>\n",
       "      <td>66103.17</td>\n",
       "      <td>16364.27</td>\n",
       "    </tr>\n",
       "    <tr>\n",
       "      <th>3</th>\n",
       "      <td>1687</td>\n",
       "      <td>4</td>\n",
       "      <td>SVCS</td>\n",
       "      <td>ACTIVE</td>\n",
       "      <td>96267.0</td>\n",
       "      <td>per Annum</td>\n",
       "      <td>1820.00</td>\n",
       "      <td>96382.90</td>\n",
       "      <td>4485.78</td>\n",
       "    </tr>\n",
       "    <tr>\n",
       "      <th>4</th>\n",
       "      <td>1688</td>\n",
       "      <td>5</td>\n",
       "      <td>SVCS</td>\n",
       "      <td>ACTIVE</td>\n",
       "      <td>57947.0</td>\n",
       "      <td>per Annum</td>\n",
       "      <td>1820.00</td>\n",
       "      <td>57788.13</td>\n",
       "      <td>4341.21</td>\n",
       "    </tr>\n",
       "  </tbody>\n",
       "</table>\n",
       "</div>"
      ],
      "text/plain": [
       "   basepayid  EmployeeId AgencyId Leave Status as of June 30  Base Salary  \\\n",
       "0       1684           1     SVCS                     ACTIVE      66022.0   \n",
       "1       1685           2     SVCS                     ACTIVE      66022.0   \n",
       "2       1686           3     SVCS                     ACTIVE      66022.0   \n",
       "3       1687           4     SVCS                     ACTIVE      96267.0   \n",
       "4       1688           5     SVCS                     ACTIVE      57947.0   \n",
       "\n",
       "   Pay Basis  Regular Hours  Regular Gross Paid  Total Other Pay  \n",
       "0  per Annum        1442.75            52857.81         24343.23  \n",
       "1  per Annum        1820.00            66067.98         25353.14  \n",
       "2  per Annum        1820.00            66103.17         16364.27  \n",
       "3  per Annum        1820.00            96382.90          4485.78  \n",
       "4  per Annum        1820.00            57788.13          4341.21  "
      ]
     },
     "execution_count": 177,
     "metadata": {},
     "output_type": "execute_result"
    }
   ],
   "source": [
    "dfbasepaydetails.head()"
   ]
  },
  {
   "cell_type": "code",
   "execution_count": 181,
   "id": "bb3b40ef",
   "metadata": {},
   "outputs": [],
   "source": [
    "#Filtering dfEmployeesbased on employee id's in dfbasepaydetails\n",
    "dfEmployees = dfEmployees[dfEmployees['EmployeeId'].isin(dfbasepaydetails['EmployeeId'])]"
   ]
  },
  {
   "cell_type": "code",
   "execution_count": 183,
   "id": "aeb40794",
   "metadata": {},
   "outputs": [
    {
     "data": {
      "image/png": "[encoded data removed]",
      "text/plain": [
       "<Figure size 640x480 with 1 Axes>"
      ]
     },
     "metadata": {},
     "output_type": "display_data"
    }
   ],
   "source": [
    "import seaborn as sns\n",
    "\n",
    "dfTitleBasePay = pd.concat([dfEmployees[\"Title Description\"], dfbasepaydetails[\"Base Salary\"]], axis=1,sort=False)\n",
    "sns.barplot (x='Title Description', y='Base Salary', data=dfTitleBasePay)\n",
    "plt.xlabel('Title Description')\n",
    "plt.ylabel('Base Salary')\n",
    "plt.title('Title Description vs Salary')\n",
    "plt.xticks(rotation=90)\n",
    "plt.show()"
   ]
  },
  {
   "cell_type": "markdown",
   "id": "6ba6d9e1",
   "metadata": {},
   "source": [
    "### EDA for dfovertimepaydetails"
   ]
  },
  {
   "cell_type": "code",
   "execution_count": 134,
   "id": "154bd84c",
   "metadata": {},
   "outputs": [
    {
     "name": "stdout",
     "output_type": "stream",
     "text": [
      "<class 'pandas.core.frame.DataFrame'>\n",
      "RangeIndex: 1683 entries, 0 to 1682\n",
      "Data columns (total 5 columns):\n",
      " #   Column         Non-Null Count  Dtype  \n",
      "---  ------         --------------  -----  \n",
      " 0   overtimepayid  1683 non-null   int64  \n",
      " 1   EmployeeId     1683 non-null   int64  \n",
      " 2   AgencyId       1683 non-null   object \n",
      " 3   OT Hours       1683 non-null   float64\n",
      " 4   Total OT Paid  1683 non-null   float64\n",
      "dtypes: float64(2), int64(2), object(1)\n",
      "memory usage: 65.9+ KB\n"
     ]
    }
   ],
   "source": [
    "# Retrieving information about the 'overtimepaydetails' DataFrame\n",
    "dfovertimepaydetails.info()"
   ]
  },
  {
   "cell_type": "code",
   "execution_count": 135,
   "id": "c3d937b7",
   "metadata": {},
   "outputs": [
    {
     "data": {
      "text/html": [
       "<div>\n",
       "<style scoped>\n",
       "    .dataframe tbody tr th:only-of-type {\n",
       "        vertical-align: middle;\n",
       "    }\n",
       "\n",
       "    .dataframe tbody tr th {\n",
       "        vertical-align: top;\n",
       "    }\n",
       "\n",
       "    .dataframe thead th {\n",
       "        text-align: right;\n",
       "    }\n",
       "</style>\n",
       "<table border=\"1\" class=\"dataframe\">\n",
       "  <thead>\n",
       "    <tr style=\"text-align: right;\">\n",
       "      <th></th>\n",
       "      <th>overtimepayid</th>\n",
       "      <th>EmployeeId</th>\n",
       "      <th>OT Hours</th>\n",
       "      <th>Total OT Paid</th>\n",
       "    </tr>\n",
       "  </thead>\n",
       "  <tbody>\n",
       "    <tr>\n",
       "      <th>count</th>\n",
       "      <td>1683.000000</td>\n",
       "      <td>1683.000000</td>\n",
       "      <td>1683.000000</td>\n",
       "      <td>1683.000000</td>\n",
       "    </tr>\n",
       "    <tr>\n",
       "      <th>mean</th>\n",
       "      <td>842.000000</td>\n",
       "      <td>842.000000</td>\n",
       "      <td>175.318087</td>\n",
       "      <td>8620.574480</td>\n",
       "    </tr>\n",
       "    <tr>\n",
       "      <th>std</th>\n",
       "      <td>485.984568</td>\n",
       "      <td>485.984568</td>\n",
       "      <td>283.315963</td>\n",
       "      <td>15178.217052</td>\n",
       "    </tr>\n",
       "    <tr>\n",
       "      <th>min</th>\n",
       "      <td>1.000000</td>\n",
       "      <td>1.000000</td>\n",
       "      <td>-43.750000</td>\n",
       "      <td>-1094.830000</td>\n",
       "    </tr>\n",
       "    <tr>\n",
       "      <th>25%</th>\n",
       "      <td>421.500000</td>\n",
       "      <td>421.500000</td>\n",
       "      <td>0.000000</td>\n",
       "      <td>0.000000</td>\n",
       "    </tr>\n",
       "    <tr>\n",
       "      <th>50%</th>\n",
       "      <td>842.000000</td>\n",
       "      <td>842.000000</td>\n",
       "      <td>33.250000</td>\n",
       "      <td>1377.860000</td>\n",
       "    </tr>\n",
       "    <tr>\n",
       "      <th>75%</th>\n",
       "      <td>1262.500000</td>\n",
       "      <td>1262.500000</td>\n",
       "      <td>230.250000</td>\n",
       "      <td>10280.875000</td>\n",
       "    </tr>\n",
       "    <tr>\n",
       "      <th>max</th>\n",
       "      <td>1683.000000</td>\n",
       "      <td>1683.000000</td>\n",
       "      <td>1793.250000</td>\n",
       "      <td>131478.690000</td>\n",
       "    </tr>\n",
       "  </tbody>\n",
       "</table>\n",
       "</div>"
      ],
      "text/plain": [
       "       overtimepayid   EmployeeId     OT Hours  Total OT Paid\n",
       "count    1683.000000  1683.000000  1683.000000    1683.000000\n",
       "mean      842.000000   842.000000   175.318087    8620.574480\n",
       "std       485.984568   485.984568   283.315963   15178.217052\n",
       "min         1.000000     1.000000   -43.750000   -1094.830000\n",
       "25%       421.500000   421.500000     0.000000       0.000000\n",
       "50%       842.000000   842.000000    33.250000    1377.860000\n",
       "75%      1262.500000  1262.500000   230.250000   10280.875000\n",
       "max      1683.000000  1683.000000  1793.250000  131478.690000"
      ]
     },
     "execution_count": 135,
     "metadata": {},
     "output_type": "execute_result"
    }
   ],
   "source": [
    "dfovertimepaydetails.describe()"
   ]
  },
  {
   "cell_type": "markdown",
   "id": "ea0b55cf",
   "metadata": {},
   "source": [
    "#### we got Min OT Hrs as -43 which signifies some peculairity that has to be analyzed"
   ]
  },
  {
   "cell_type": "code",
   "execution_count": 137,
   "id": "59932c45",
   "metadata": {},
   "outputs": [
    {
     "data": {
      "text/plain": [
       "<Axes: >"
      ]
     },
     "execution_count": 137,
     "metadata": {},
     "output_type": "execute_result"
    },
    {
     "data": {
      "image/png": "[encoded data removed]",
      "text/plain": [
       "<Figure size 640x480 with 1 Axes>"
      ]
     },
     "metadata": {},
     "output_type": "display_data"
    }
   ],
   "source": [
    "dfovertimepaydetails[\"OT Hours\"].plot(kind = 'box')"
   ]
  },
  {
   "cell_type": "markdown",
   "id": "73fdd614",
   "metadata": {},
   "source": [
    "As we can see there are clear outliers in Overtime Hours which signify that there are few departments which do not do overtime and few extend their hours considerably"
   ]
  },
  {
   "cell_type": "code",
   "execution_count": 143,
   "id": "bd1f84e2",
   "metadata": {},
   "outputs": [
    {
     "data": {
      "text/html": [
       "<div>\n",
       "<style scoped>\n",
       "    .dataframe tbody tr th:only-of-type {\n",
       "        vertical-align: middle;\n",
       "    }\n",
       "\n",
       "    .dataframe tbody tr th {\n",
       "        vertical-align: top;\n",
       "    }\n",
       "\n",
       "    .dataframe thead th {\n",
       "        text-align: right;\n",
       "    }\n",
       "</style>\n",
       "<table border=\"1\" class=\"dataframe\">\n",
       "  <thead>\n",
       "    <tr style=\"text-align: right;\">\n",
       "      <th></th>\n",
       "      <th>overtimepayid</th>\n",
       "      <th>EmployeeId</th>\n",
       "      <th>AgencyId</th>\n",
       "      <th>OT Hours</th>\n",
       "      <th>Total OT Paid</th>\n",
       "    </tr>\n",
       "  </thead>\n",
       "  <tbody>\n",
       "    <tr>\n",
       "      <th>446</th>\n",
       "      <td>447</td>\n",
       "      <td>447</td>\n",
       "      <td>SVCS</td>\n",
       "      <td>-43.75</td>\n",
       "      <td>-1094.83</td>\n",
       "    </tr>\n",
       "  </tbody>\n",
       "</table>\n",
       "</div>"
      ],
      "text/plain": [
       "     overtimepayid  EmployeeId AgencyId  OT Hours  Total OT Paid\n",
       "446            447         447     SVCS    -43.75       -1094.83"
      ]
     },
     "execution_count": 143,
     "metadata": {},
     "output_type": "execute_result"
    }
   ],
   "source": [
    "minOTRecords = dfovertimepaydetails[dfovertimepaydetails[\"OT Hours\"] == min(dfovertimepaydetails[\"OT Hours\"])]\n",
    "# Extracting indices from a filtered DataFrame\n",
    "#perDayindices = perDayRecords.index.tolist()\n",
    "#dfbasepaydetails.loc[perDayindices, \"Base Salary\"] *= 365\n",
    "#dfbasepaydetails.loc[perDayindices, \"Pay Basis\"] = 'per Annum'\n",
    "minOTRecords"
   ]
  },
  {
   "cell_type": "markdown",
   "id": "52247f38",
   "metadata": {},
   "source": [
    "We can observe the above obtained records in dfbasepaydetails dataframe to hget more insgihts"
   ]
  },
  {
   "cell_type": "code",
   "execution_count": 149,
   "id": "12c63010",
   "metadata": {},
   "outputs": [],
   "source": [
    "#dfbasepaydetails[minOTRecords.index.tolist()]\n",
    "#dfbasepaydetails[dfbasepaydetails[\"EmployeeId\"] == minOTRecords[\"EmployeeId\"]]\n",
    "filtered_df = dfbasepaydetails[dfbasepaydetails['EmployeeId'].isin(minOTRecords['EmployeeId'])]"
   ]
  },
  {
   "cell_type": "code",
   "execution_count": 150,
   "id": "d45fe4db",
   "metadata": {},
   "outputs": [
    {
     "data": {
      "text/html": [
       "<div>\n",
       "<style scoped>\n",
       "    .dataframe tbody tr th:only-of-type {\n",
       "        vertical-align: middle;\n",
       "    }\n",
       "\n",
       "    .dataframe tbody tr th {\n",
       "        vertical-align: top;\n",
       "    }\n",
       "\n",
       "    .dataframe thead th {\n",
       "        text-align: right;\n",
       "    }\n",
       "</style>\n",
       "<table border=\"1\" class=\"dataframe\">\n",
       "  <thead>\n",
       "    <tr style=\"text-align: right;\">\n",
       "      <th></th>\n",
       "      <th>basepayid</th>\n",
       "      <th>EmployeeId</th>\n",
       "      <th>AgencyId</th>\n",
       "      <th>Leave Status as of June 30</th>\n",
       "      <th>Base Salary</th>\n",
       "      <th>Pay Basis</th>\n",
       "      <th>Regular Hours</th>\n",
       "      <th>Regular Gross Paid</th>\n",
       "      <th>Total Other Pay</th>\n",
       "    </tr>\n",
       "  </thead>\n",
       "  <tbody>\n",
       "    <tr>\n",
       "      <th>446</th>\n",
       "      <td>2130</td>\n",
       "      <td>447</td>\n",
       "      <td>SVCS</td>\n",
       "      <td>CEASED</td>\n",
       "      <td>34834.0</td>\n",
       "      <td>per Annum</td>\n",
       "      <td>0.0</td>\n",
       "      <td>0.0</td>\n",
       "      <td>-90.41</td>\n",
       "    </tr>\n",
       "  </tbody>\n",
       "</table>\n",
       "</div>"
      ],
      "text/plain": [
       "     basepayid  EmployeeId AgencyId Leave Status as of June 30  Base Salary  \\\n",
       "446       2130         447     SVCS                     CEASED      34834.0   \n",
       "\n",
       "     Pay Basis  Regular Hours  Regular Gross Paid  Total Other Pay  \n",
       "446  per Annum            0.0                 0.0           -90.41  "
      ]
     },
     "execution_count": 150,
     "metadata": {},
     "output_type": "execute_result"
    }
   ],
   "source": [
    "filtered_df.head()"
   ]
  },
  {
   "cell_type": "markdown",
   "id": "85e644b6",
   "metadata": {},
   "source": [
    "As we observe Leave status  of this record in CEASED so we can ignore these kind of records in our analysis"
   ]
  },
  {
   "cell_type": "code",
   "execution_count": 153,
   "id": "e548f7d2",
   "metadata": {},
   "outputs": [],
   "source": [
    "dfbasepaydetails = dfbasepaydetails[dfbasepaydetails['Leave Status as of June 30'] != 'CEASED']"
   ]
  },
  {
   "cell_type": "code",
   "execution_count": 156,
   "id": "ed934836",
   "metadata": {},
   "outputs": [],
   "source": [
    "dfovertimepaydetails = dfovertimepaydetails[dfovertimepaydetails['EmployeeId'].isin(dfbasepaydetails['EmployeeId'])]"
   ]
  },
  {
   "cell_type": "code",
   "execution_count": 157,
   "id": "6f5b3278",
   "metadata": {},
   "outputs": [
    {
     "data": {
      "text/html": [
       "<div>\n",
       "<style scoped>\n",
       "    .dataframe tbody tr th:only-of-type {\n",
       "        vertical-align: middle;\n",
       "    }\n",
       "\n",
       "    .dataframe tbody tr th {\n",
       "        vertical-align: top;\n",
       "    }\n",
       "\n",
       "    .dataframe thead th {\n",
       "        text-align: right;\n",
       "    }\n",
       "</style>\n",
       "<table border=\"1\" class=\"dataframe\">\n",
       "  <thead>\n",
       "    <tr style=\"text-align: right;\">\n",
       "      <th></th>\n",
       "      <th>overtimepayid</th>\n",
       "      <th>EmployeeId</th>\n",
       "      <th>AgencyId</th>\n",
       "      <th>OT Hours</th>\n",
       "      <th>Total OT Paid</th>\n",
       "    </tr>\n",
       "  </thead>\n",
       "  <tbody>\n",
       "    <tr>\n",
       "      <th>0</th>\n",
       "      <td>1</td>\n",
       "      <td>1</td>\n",
       "      <td>SVCS</td>\n",
       "      <td>19.75</td>\n",
       "      <td>903.43</td>\n",
       "    </tr>\n",
       "    <tr>\n",
       "      <th>1</th>\n",
       "      <td>2</td>\n",
       "      <td>2</td>\n",
       "      <td>SVCS</td>\n",
       "      <td>37.75</td>\n",
       "      <td>1438.70</td>\n",
       "    </tr>\n",
       "    <tr>\n",
       "      <th>2</th>\n",
       "      <td>3</td>\n",
       "      <td>3</td>\n",
       "      <td>SVCS</td>\n",
       "      <td>421.75</td>\n",
       "      <td>20542.24</td>\n",
       "    </tr>\n",
       "    <tr>\n",
       "      <th>3</th>\n",
       "      <td>4</td>\n",
       "      <td>4</td>\n",
       "      <td>SVCS</td>\n",
       "      <td>12.25</td>\n",
       "      <td>650.11</td>\n",
       "    </tr>\n",
       "    <tr>\n",
       "      <th>4</th>\n",
       "      <td>5</td>\n",
       "      <td>5</td>\n",
       "      <td>SVCS</td>\n",
       "      <td>0.00</td>\n",
       "      <td>0.00</td>\n",
       "    </tr>\n",
       "  </tbody>\n",
       "</table>\n",
       "</div>"
      ],
      "text/plain": [
       "   overtimepayid  EmployeeId AgencyId  OT Hours  Total OT Paid\n",
       "0              1           1     SVCS     19.75         903.43\n",
       "1              2           2     SVCS     37.75        1438.70\n",
       "2              3           3     SVCS    421.75       20542.24\n",
       "3              4           4     SVCS     12.25         650.11\n",
       "4              5           5     SVCS      0.00           0.00"
      ]
     },
     "execution_count": 157,
     "metadata": {},
     "output_type": "execute_result"
    }
   ],
   "source": [
    "dfovertimepaydetails.head()"
   ]
  },
  {
   "cell_type": "code",
   "execution_count": 159,
   "id": "34e67fbf",
   "metadata": {},
   "outputs": [
    {
     "data": {
      "text/html": [
       "<div>\n",
       "<style scoped>\n",
       "    .dataframe tbody tr th:only-of-type {\n",
       "        vertical-align: middle;\n",
       "    }\n",
       "\n",
       "    .dataframe tbody tr th {\n",
       "        vertical-align: top;\n",
       "    }\n",
       "\n",
       "    .dataframe thead th {\n",
       "        text-align: right;\n",
       "    }\n",
       "</style>\n",
       "<table border=\"1\" class=\"dataframe\">\n",
       "  <thead>\n",
       "    <tr style=\"text-align: right;\">\n",
       "      <th></th>\n",
       "      <th>overtimepayid</th>\n",
       "      <th>EmployeeId</th>\n",
       "      <th>OT Hours</th>\n",
       "      <th>Total OT Paid</th>\n",
       "    </tr>\n",
       "  </thead>\n",
       "  <tbody>\n",
       "    <tr>\n",
       "      <th>count</th>\n",
       "      <td>1238.000000</td>\n",
       "      <td>1238.000000</td>\n",
       "      <td>1238.000000</td>\n",
       "      <td>1238.000000</td>\n",
       "    </tr>\n",
       "    <tr>\n",
       "      <th>mean</th>\n",
       "      <td>821.553312</td>\n",
       "      <td>821.553312</td>\n",
       "      <td>228.589128</td>\n",
       "      <td>11321.507690</td>\n",
       "    </tr>\n",
       "    <tr>\n",
       "      <th>std</th>\n",
       "      <td>487.298340</td>\n",
       "      <td>487.298340</td>\n",
       "      <td>309.643666</td>\n",
       "      <td>16777.150992</td>\n",
       "    </tr>\n",
       "    <tr>\n",
       "      <th>min</th>\n",
       "      <td>1.000000</td>\n",
       "      <td>1.000000</td>\n",
       "      <td>-8.000000</td>\n",
       "      <td>-361.740000</td>\n",
       "    </tr>\n",
       "    <tr>\n",
       "      <th>25%</th>\n",
       "      <td>387.250000</td>\n",
       "      <td>387.250000</td>\n",
       "      <td>1.062500</td>\n",
       "      <td>114.077500</td>\n",
       "    </tr>\n",
       "    <tr>\n",
       "      <th>50%</th>\n",
       "      <td>814.500000</td>\n",
       "      <td>814.500000</td>\n",
       "      <td>92.250000</td>\n",
       "      <td>4105.905000</td>\n",
       "    </tr>\n",
       "    <tr>\n",
       "      <th>75%</th>\n",
       "      <td>1232.750000</td>\n",
       "      <td>1232.750000</td>\n",
       "      <td>335.250000</td>\n",
       "      <td>14952.110000</td>\n",
       "    </tr>\n",
       "    <tr>\n",
       "      <th>max</th>\n",
       "      <td>1682.000000</td>\n",
       "      <td>1682.000000</td>\n",
       "      <td>1793.250000</td>\n",
       "      <td>131478.690000</td>\n",
       "    </tr>\n",
       "  </tbody>\n",
       "</table>\n",
       "</div>"
      ],
      "text/plain": [
       "       overtimepayid   EmployeeId     OT Hours  Total OT Paid\n",
       "count    1238.000000  1238.000000  1238.000000    1238.000000\n",
       "mean      821.553312   821.553312   228.589128   11321.507690\n",
       "std       487.298340   487.298340   309.643666   16777.150992\n",
       "min         1.000000     1.000000    -8.000000    -361.740000\n",
       "25%       387.250000   387.250000     1.062500     114.077500\n",
       "50%       814.500000   814.500000    92.250000    4105.905000\n",
       "75%      1232.750000  1232.750000   335.250000   14952.110000\n",
       "max      1682.000000  1682.000000  1793.250000  131478.690000"
      ]
     },
     "execution_count": 159,
     "metadata": {},
     "output_type": "execute_result"
    }
   ],
   "source": [
    "dfovertimepaydetails.describe()"
   ]
  },
  {
   "cell_type": "markdown",
   "id": "f0d519c7",
   "metadata": {},
   "source": [
    "Even after removing the CEASED records still Minimum OT Hours is -8 a negative value which can be due to error in data so we can make these negative values as 0 as part of data cleaning"
   ]
  },
  {
   "cell_type": "code",
   "execution_count": 162,
   "id": "73abb928",
   "metadata": {},
   "outputs": [],
   "source": [
    "negativeOTHours = dfovertimepaydetails[dfovertimepaydetails['OT Hours'] < 0]\n",
    "# Extracting indices from a filtered DataFrame\n",
    "negativeOTindices = negativeOTHours.index.tolist()\n",
    "\n",
    "dfovertimepaydetails.loc[negativeOTindices, \"OT Hours\"] = 0\n",
    "\n",
    "#dfovertimepaydetails = dfovertimepaydetails[dfovertimepaydetails['OT Hours'] < 0]"
   ]
  },
  {
   "cell_type": "code",
   "execution_count": 163,
   "id": "42c3768b",
   "metadata": {},
   "outputs": [
    {
     "data": {
      "text/plain": [
       "0"
      ]
     },
     "execution_count": 163,
     "metadata": {},
     "output_type": "execute_result"
    }
   ],
   "source": [
    "len(dfovertimepaydetails[dfovertimepaydetails['OT Hours'] < 0])"
   ]
  },
  {
   "cell_type": "code",
   "execution_count": 164,
   "id": "8952734a",
   "metadata": {},
   "outputs": [
    {
     "data": {
      "text/html": [
       "<div>\n",
       "<style scoped>\n",
       "    .dataframe tbody tr th:only-of-type {\n",
       "        vertical-align: middle;\n",
       "    }\n",
       "\n",
       "    .dataframe tbody tr th {\n",
       "        vertical-align: top;\n",
       "    }\n",
       "\n",
       "    .dataframe thead th {\n",
       "        text-align: right;\n",
       "    }\n",
       "</style>\n",
       "<table border=\"1\" class=\"dataframe\">\n",
       "  <thead>\n",
       "    <tr style=\"text-align: right;\">\n",
       "      <th></th>\n",
       "      <th>overtimepayid</th>\n",
       "      <th>EmployeeId</th>\n",
       "      <th>OT Hours</th>\n",
       "      <th>Total OT Paid</th>\n",
       "    </tr>\n",
       "  </thead>\n",
       "  <tbody>\n",
       "    <tr>\n",
       "      <th>count</th>\n",
       "      <td>1238.000000</td>\n",
       "      <td>1238.000000</td>\n",
       "      <td>1238.000000</td>\n",
       "      <td>1238.000000</td>\n",
       "    </tr>\n",
       "    <tr>\n",
       "      <th>mean</th>\n",
       "      <td>821.553312</td>\n",
       "      <td>821.553312</td>\n",
       "      <td>228.595590</td>\n",
       "      <td>11321.507690</td>\n",
       "    </tr>\n",
       "    <tr>\n",
       "      <th>std</th>\n",
       "      <td>487.298340</td>\n",
       "      <td>487.298340</td>\n",
       "      <td>309.638808</td>\n",
       "      <td>16777.150992</td>\n",
       "    </tr>\n",
       "    <tr>\n",
       "      <th>min</th>\n",
       "      <td>1.000000</td>\n",
       "      <td>1.000000</td>\n",
       "      <td>0.000000</td>\n",
       "      <td>-361.740000</td>\n",
       "    </tr>\n",
       "    <tr>\n",
       "      <th>25%</th>\n",
       "      <td>387.250000</td>\n",
       "      <td>387.250000</td>\n",
       "      <td>1.062500</td>\n",
       "      <td>114.077500</td>\n",
       "    </tr>\n",
       "    <tr>\n",
       "      <th>50%</th>\n",
       "      <td>814.500000</td>\n",
       "      <td>814.500000</td>\n",
       "      <td>92.250000</td>\n",
       "      <td>4105.905000</td>\n",
       "    </tr>\n",
       "    <tr>\n",
       "      <th>75%</th>\n",
       "      <td>1232.750000</td>\n",
       "      <td>1232.750000</td>\n",
       "      <td>335.250000</td>\n",
       "      <td>14952.110000</td>\n",
       "    </tr>\n",
       "    <tr>\n",
       "      <th>max</th>\n",
       "      <td>1682.000000</td>\n",
       "      <td>1682.000000</td>\n",
       "      <td>1793.250000</td>\n",
       "      <td>131478.690000</td>\n",
       "    </tr>\n",
       "  </tbody>\n",
       "</table>\n",
       "</div>"
      ],
      "text/plain": [
       "       overtimepayid   EmployeeId     OT Hours  Total OT Paid\n",
       "count    1238.000000  1238.000000  1238.000000    1238.000000\n",
       "mean      821.553312   821.553312   228.595590   11321.507690\n",
       "std       487.298340   487.298340   309.638808   16777.150992\n",
       "min         1.000000     1.000000     0.000000    -361.740000\n",
       "25%       387.250000   387.250000     1.062500     114.077500\n",
       "50%       814.500000   814.500000    92.250000    4105.905000\n",
       "75%      1232.750000  1232.750000   335.250000   14952.110000\n",
       "max      1682.000000  1682.000000  1793.250000  131478.690000"
      ]
     },
     "execution_count": 164,
     "metadata": {},
     "output_type": "execute_result"
    }
   ],
   "source": [
    "dfovertimepaydetails.describe()"
   ]
  },
  {
   "cell_type": "markdown",
   "id": "e49a8099",
   "metadata": {},
   "source": [
    "Similarly updatimng the Total OT paid to zero for negative OT Hours records"
   ]
  },
  {
   "cell_type": "code",
   "execution_count": 166,
   "id": "48dc495f",
   "metadata": {},
   "outputs": [],
   "source": [
    "dfovertimepaydetails.loc[negativeOTindices, \"Total OT Paid\"] = 0"
   ]
  },
  {
   "cell_type": "code",
   "execution_count": 167,
   "id": "46c1bb10",
   "metadata": {},
   "outputs": [
    {
     "data": {
      "text/html": [
       "<div>\n",
       "<style scoped>\n",
       "    .dataframe tbody tr th:only-of-type {\n",
       "        vertical-align: middle;\n",
       "    }\n",
       "\n",
       "    .dataframe tbody tr th {\n",
       "        vertical-align: top;\n",
       "    }\n",
       "\n",
       "    .dataframe thead th {\n",
       "        text-align: right;\n",
       "    }\n",
       "</style>\n",
       "<table border=\"1\" class=\"dataframe\">\n",
       "  <thead>\n",
       "    <tr style=\"text-align: right;\">\n",
       "      <th></th>\n",
       "      <th>overtimepayid</th>\n",
       "      <th>EmployeeId</th>\n",
       "      <th>OT Hours</th>\n",
       "      <th>Total OT Paid</th>\n",
       "    </tr>\n",
       "  </thead>\n",
       "  <tbody>\n",
       "    <tr>\n",
       "      <th>count</th>\n",
       "      <td>1238.000000</td>\n",
       "      <td>1238.000000</td>\n",
       "      <td>1238.000000</td>\n",
       "      <td>1238.000000</td>\n",
       "    </tr>\n",
       "    <tr>\n",
       "      <th>mean</th>\n",
       "      <td>821.553312</td>\n",
       "      <td>821.553312</td>\n",
       "      <td>228.595590</td>\n",
       "      <td>11321.507690</td>\n",
       "    </tr>\n",
       "    <tr>\n",
       "      <th>std</th>\n",
       "      <td>487.298340</td>\n",
       "      <td>487.298340</td>\n",
       "      <td>309.638808</td>\n",
       "      <td>16777.150992</td>\n",
       "    </tr>\n",
       "    <tr>\n",
       "      <th>min</th>\n",
       "      <td>1.000000</td>\n",
       "      <td>1.000000</td>\n",
       "      <td>0.000000</td>\n",
       "      <td>-361.740000</td>\n",
       "    </tr>\n",
       "    <tr>\n",
       "      <th>25%</th>\n",
       "      <td>387.250000</td>\n",
       "      <td>387.250000</td>\n",
       "      <td>1.062500</td>\n",
       "      <td>114.077500</td>\n",
       "    </tr>\n",
       "    <tr>\n",
       "      <th>50%</th>\n",
       "      <td>814.500000</td>\n",
       "      <td>814.500000</td>\n",
       "      <td>92.250000</td>\n",
       "      <td>4105.905000</td>\n",
       "    </tr>\n",
       "    <tr>\n",
       "      <th>75%</th>\n",
       "      <td>1232.750000</td>\n",
       "      <td>1232.750000</td>\n",
       "      <td>335.250000</td>\n",
       "      <td>14952.110000</td>\n",
       "    </tr>\n",
       "    <tr>\n",
       "      <th>max</th>\n",
       "      <td>1682.000000</td>\n",
       "      <td>1682.000000</td>\n",
       "      <td>1793.250000</td>\n",
       "      <td>131478.690000</td>\n",
       "    </tr>\n",
       "  </tbody>\n",
       "</table>\n",
       "</div>"
      ],
      "text/plain": [
       "       overtimepayid   EmployeeId     OT Hours  Total OT Paid\n",
       "count    1238.000000  1238.000000  1238.000000    1238.000000\n",
       "mean      821.553312   821.553312   228.595590   11321.507690\n",
       "std       487.298340   487.298340   309.638808   16777.150992\n",
       "min         1.000000     1.000000     0.000000    -361.740000\n",
       "25%       387.250000   387.250000     1.062500     114.077500\n",
       "50%       814.500000   814.500000    92.250000    4105.905000\n",
       "75%      1232.750000  1232.750000   335.250000   14952.110000\n",
       "max      1682.000000  1682.000000  1793.250000  131478.690000"
      ]
     },
     "execution_count": 167,
     "metadata": {},
     "output_type": "execute_result"
    }
   ],
   "source": [
    "dfovertimepaydetails.describe()"
   ]
  },
  {
   "cell_type": "code",
   "execution_count": 168,
   "id": "e3390544",
   "metadata": {},
   "outputs": [
    {
     "data": {
      "text/plain": [
       "<Axes: >"
      ]
     },
     "execution_count": 168,
     "metadata": {},
     "output_type": "execute_result"
    },
    {
     "data": {
      "image/png": "[encoded data removed]",
      "text/plain": [
       "<Figure size 640x480 with 1 Axes>"
      ]
     },
     "metadata": {},
     "output_type": "display_data"
    }
   ],
   "source": [
    "dfovertimepaydetails[\"OT Hours\"].plot(kind='box')"
   ]
  },
  {
   "cell_type": "code",
   "execution_count": 169,
   "id": "2c27fb95",
   "metadata": {},
   "outputs": [
    {
     "data": {
      "text/plain": [
       "<Axes: >"
      ]
     },
     "execution_count": 169,
     "metadata": {},
     "output_type": "execute_result"
    },
    {
     "data": {
      "image/png": "[encoded data removed]",
      "text/plain": [
       "<Figure size 640x480 with 1 Axes>"
      ]
     },
     "metadata": {},
     "output_type": "display_data"
    }
   ],
   "source": [
    "dfovertimepaydetails[\"Total OT Paid\"].plot(kind='box')"
   ]
  },
  {
   "cell_type": "markdown",
   "id": "8f70c87e",
   "metadata": {},
   "source": [
    "## Conclusion from EDA: \n",
    "From EDA we got to analyze that the data is not perfect and it needs to be cleansed.\n",
    "We have performed follwing data cleaning on the given dataset:\n",
    "1.Converted the Agency Start Date to DateTime format\n",
    "2.Scaled the Base Pay so that it indicates the amount paid per annum instead of per Hour or per Day.\n",
    "3.Removed the CEASED data from \"Leave Status as of June 30\" as the Employees left the organization and the Base pay and other column values for OverTime fields were given as negative\n",
    "4.Updated the negative values present in OT Hours and Total OT Paid columns to 0"
   ]
  },
  {
   "cell_type": "markdown",
   "id": "02b8c740",
   "metadata": {},
   "source": [
    "## Inference"
   ]
  },
  {
   "cell_type": "code",
   "execution_count": 171,
   "id": "9dcaff4d",
   "metadata": {},
   "outputs": [],
   "source": [
    "'''For Analyzing Maximum OT Hours performed by various Job Titles we consider OT Hours as 500 '''\n",
    "OTMorethan500 = dfovertimepaydetails[dfovertimepaydetails ['OT Hours']>500]\n",
    "# 'condition' stores the filtered DataFrame based on the specified condition\n",
    "indicesforOTMorethan500 = OTMorethan500.index.tolist()\n",
    "\n",
    "dfOverTime = pd.concat([dfovertimepaydetails.loc[indicesforOTMorethan500, \"EmployeeId\"], \n",
    "                        dfEmployees.loc[indicesforOTMorethan500, \"Title Description\"], \n",
    "                        dfovertimepaydetails.loc[indicesforOTMorethan500, \"OT Hours\"]], axis=1, sort=False)"
   ]
  },
  {
   "cell_type": "code",
   "execution_count": 172,
   "id": "baa4d660",
   "metadata": {},
   "outputs": [
    {
     "data": {
      "image/png": "[encoded data removed]",
      "text/plain": [
       "<Figure size 1000x600 with 1 Axes>"
      ]
     },
     "metadata": {},
     "output_type": "display_data"
    }
   ],
   "source": [
    "plt.figure(figsize=(10, 6))\n",
    "plt.bar(dfOverTime['Title Description'], dfOverTime['OT Hours'], color='skyblue')\n",
    "plt.xlabel('Title Description')\n",
    "plt.ylabel('Count')\n",
    "plt.title('Count of Title Descriptions')\n",
    "plt.xticks(rotation=90)  # Rotate x-axis labels for better readability\n",
    "plt.show()"
   ]
  },
  {
   "cell_type": "code",
   "execution_count": 174,
   "id": "eede519a",
   "metadata": {},
   "outputs": [
    {
     "data": {
      "image/png": "[encoded data removed]",
      "text/plain": [
       "<Figure size 640x480 with 1 Axes>"
      ]
     },
     "metadata": {},
     "output_type": "display_data"
    }
   ],
   "source": [
    "sns.barplot (x='Title Description', y='OT Hours', data=dfOverTime)\n",
    "plt.xlabel('Title Description')\n",
    "plt.ylabel('OT Hours')\n",
    "plt.title('Title Description vs OT Hours')\n",
    "plt.xticks(rotation=90)\n",
    "plt.show()"
   ]
  },
  {
   "cell_type": "code",
   "execution_count": 175,
   "id": "42c7e4c1",
   "metadata": {},
   "outputs": [
    {
     "data": {
      "text/plain": [
       "Title Description\n",
       "YOUTH DEVELOPMENT SPECIALIST                         116\n",
       "CHILD PROTECTIVE SPECIALIST                           28\n",
       "ASSOCIATE YOUTH DEVELOPMENT SPECIALIST                25\n",
       "CHILD PROTECTIVE SPECIALIST SUPERVISOR                15\n",
       "SPECIAL OFFICER                                        8\n",
       "ADMINISTRATIVE DIRECTOR OF RESIDENTIAL CHILD CARE      4\n",
       "INSTITUTIONAL AIDE                                     2\n",
       "STATIONARY ENGINEER                                    2\n",
       "*COOK                                                  1\n",
       "CHILD WELFARE SPECIALIST                               1\n",
       "ADMINISTRATIVE CONTRACT SPECIALIST                     1\n",
       "COMMUNITY ASSISTANT                                    1\n",
       "ADMINISTRATIVE DIRECTOR OF SOCIAL SERVICES             1\n",
       "PRINCIPAL ADMINISTRATIVE ASSOCIATE -  NON SUPVR        1\n",
       "COMMUNITY COORDINATOR                                  1\n",
       "Name: count, dtype: int64"
      ]
     },
     "execution_count": 175,
     "metadata": {},
     "output_type": "execute_result"
    }
   ],
   "source": [
    "dfOverTime[\"Title Description\"].value_counts()"
   ]
  },
  {
   "cell_type": "markdown",
   "id": "3a7fa58d",
   "metadata": {},
   "source": [
    "A new DataFrame is created and named dfOverTime by concatenating three columns:\n",
    "\n",
    "'EmployeeId' from the dfovertimepaydetails DataFrame,'Title Description' from the dfEmployees DataFrame, 'OT Hours' from the dfovertimepaydetails DataFrame, all are selected based on the filtered indices.\n",
    "The pd.concat function is used for concatenation. The axis=1 argument indicates concatenation along columns, and sort=False avoids sorting the columns in the result.\n",
    "\n",
    "This code is selecting overtime records where the 'OT Hours' are greater than 500, extracting the corresponding indices, and creating a new DataFrame (dfOverTime) by combining selected columns from different DataFrames based on those indices. This approach is efficient when you want to filter and combine specific information from multiple DataFrames. \n",
    "\n",
    "The code sets the size of the figure to 10 inches in width and 6 inches in height. It ensures that the resulting plot will have the specified dimensions.\n",
    "plt.bar() creates a bar plot using the 'Title Description' column as the x-axis values and the 'OT Hours' column as the corresponding y-axis values. Each bar represents a different job title, and the height of the bar corresponds to the count of overtime hours for that job title. The bars are colored in sky blue.\n",
    "plt.xlabel(), plt.ylabel(), plt.title() set the labels for the x-axis ('Title Description') and y-axis ('Count'), and provide a title for the plot ('Count of Title Descriptions'). These labels help in understanding the content of the plot.\n",
    "Aftere, Seaborn's barplot function to create a bar plot. It specifies 'Title Description' as the x-axis values (x), 'OT Hours' as the y-axis values (y), and the data source as the DataFrame dfOverTime. Then it sets the x-axis label ('Title Description'), y-axis label ('OT Hours'), and the title of the plot ('Title Description vs OT Hours'). \n",
    "By using \"plt.xticks(rotation=90)\" line rotates the x-axis labels (job titles in this case) by 90 degrees."
   ]
  },
  {
   "cell_type": "markdown",
   "id": "ad867886",
   "metadata": {},
   "source": [
    "## Conclusion"
   ]
  },
  {
   "cell_type": "markdown",
   "id": "d45bc397",
   "metadata": {},
   "source": [
    "We have collected the data from NYC Open Data.\n",
    "And imported several Python libraries for data manipulation, PostgreSQL database connection, SQL toolkit, data visualization, fetched data from a CSV file hosted on GitHub using pandas and stores it in a DataFrame (df). Then created a schema adheres to normalization principles by organizing data into separate tables and establishing relationships between them, minimizing data redundancy.\n",
    "Inserting into employeedetails, Basepaydetails, Basepaydetails tables from the created dataframe. \n",
    "\n",
    "Performing the the Exploratory Data Analysis and the results and conclusions for the analysis is as follows :\n",
    "The code  dfbasepaydetails[\"-----\"].plot(kind='box') generates a box plot for the \"Base Salary\", \"Regular Gross Paid\", \"OT Hours\"  in the DataFrames where the box plot provides a visual summary of the central tendency, spread, and potential outliers in the specified columns of the specific dataframes. \n",
    "\n",
    "These statistics provide a comprehensive overview of the distribution and central tendency of the \"Base Salary\" data, helping you understand its range, variability, and position within the dataset. The quartiles and median offer insights into the data's distribution, and the minimum and maximum values indicate the overall range of salaries. \n",
    "The resulting plot is a bar chart where each bar represents a different job title ('Title Description'), and the height of the bar indicates the count of overtime hours ('OT Hours') for that specific title. This visualization provides insights into the distribution of overtime hours across different job titles. Adjustments can be made to the code and plot appearance based on your specific preferences and data visualization requirements.\n",
    "\n",
    "Therefore from the above visualizations and statistics, we can conclude that for the below job tile descriptions, employees are doing most of the OT hours in sectors like YOUTH DEVELOPMENT SPECIALIST, CHILD PROTECTIVE SPECIALIST, ASSOCIATE YOUTH DEVELOPMENT SPECIALIST,CHILD PROTECTIVE SPECIALIST SUPERVISOR and most of the employment can be generated here. For these Title descriptions, we can hire more employees. For the other Title descriptions like SPECIAL OFFICER, ADMINISTRATIVE DIRECTOR OF RESIDENTIAL CHILD CARE, INSTITUTIONAL AIDE, STATIONARY ENGINEER are the people doing less OT hours and moderate employment can be generated here. "
   ]
  }
 ],
 "metadata": {
  "kernelspec": {
   "display_name": "Python 3 (ipykernel)",
   "language": "python",
   "name": "python3"
  },
  "language_info": {
   "codemirror_mode": {
    "name": "ipython",
    "version": 3
   },
   "file_extension": ".py",
   "mimetype": "text/x-python",
   "name": "python",
   "nbconvert_exporter": "python",
   "pygments_lexer": "ipython3",
   "version": "3.11.5"
  }
 },
 "nbformat": 4,
 "nbformat_minor": 5
}
